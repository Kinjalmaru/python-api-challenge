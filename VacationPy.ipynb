{
 "cells": [
  {
   "cell_type": "markdown",
   "metadata": {},
   "source": [
    "# VacationPy\n",
    "----\n",
    "\n",
    "#### Note\n",
    "* Keep an eye on your API usage. Use https://developers.google.com/maps/reporting/gmp-reporting as reference for how to monitor your usage and billing.\n",
    "\n",
    "* Instructions have been included for each segment. You do not have to follow them exactly, but they are included to help you think through the steps."
   ]
  },
  {
   "cell_type": "code",
   "execution_count": 33,
   "metadata": {},
   "outputs": [],
   "source": [
    "# Dependencies and Setup\n",
    "import matplotlib.pyplot as plt\n",
    "import pandas as pd\n",
    "import numpy as np\n",
    "import requests\n",
    "import json\n",
    "import gmaps\n",
    "import os\n",
    "\n",
    "# Import API key\n",
    "from api_keys import g_key"
   ]
  },
  {
   "cell_type": "markdown",
   "metadata": {},
   "source": [
    "### Store Part I results into DataFrame\n",
    "* Load the csv exported in Part I to a DataFrame"
   ]
  },
  {
   "cell_type": "code",
   "execution_count": 34,
   "metadata": {},
   "outputs": [
    {
     "output_type": "execute_result",
     "data": {
      "text/plain": [
       "   Unnamed: 0          City country      Lat      Lon  Max Temp  Humidity  \\\n",
       "0           0  saint-pierre      RE -21.3393  55.4781      77.0        73   \n",
       "1           1     cape town      ZA -33.9258  18.4232      63.0        94   \n",
       "2           2  punta arenas      CL -53.1500 -70.9167      42.8       100   \n",
       "3           3      hermanus      ZA -34.4187  19.2345      61.0        88   \n",
       "4           4       qaanaaq      GL  77.4840 -69.3632      35.6        69   \n",
       "\n",
       "   Cloudiness  Wind Speed        Date  \n",
       "0          90       21.85  1619490028  \n",
       "1          90        3.44  1619489889  \n",
       "2          90        3.44  1619489651  \n",
       "3          98        2.66  1619489890  \n",
       "4         100        7.31  1619490404  "
      ],
      "text/html": "<div>\n<style scoped>\n    .dataframe tbody tr th:only-of-type {\n        vertical-align: middle;\n    }\n\n    .dataframe tbody tr th {\n        vertical-align: top;\n    }\n\n    .dataframe thead th {\n        text-align: right;\n    }\n</style>\n<table border=\"1\" class=\"dataframe\">\n  <thead>\n    <tr style=\"text-align: right;\">\n      <th></th>\n      <th>Unnamed: 0</th>\n      <th>City</th>\n      <th>country</th>\n      <th>Lat</th>\n      <th>Lon</th>\n      <th>Max Temp</th>\n      <th>Humidity</th>\n      <th>Cloudiness</th>\n      <th>Wind Speed</th>\n      <th>Date</th>\n    </tr>\n  </thead>\n  <tbody>\n    <tr>\n      <th>0</th>\n      <td>0</td>\n      <td>saint-pierre</td>\n      <td>RE</td>\n      <td>-21.3393</td>\n      <td>55.4781</td>\n      <td>77.0</td>\n      <td>73</td>\n      <td>90</td>\n      <td>21.85</td>\n      <td>1619490028</td>\n    </tr>\n    <tr>\n      <th>1</th>\n      <td>1</td>\n      <td>cape town</td>\n      <td>ZA</td>\n      <td>-33.9258</td>\n      <td>18.4232</td>\n      <td>63.0</td>\n      <td>94</td>\n      <td>90</td>\n      <td>3.44</td>\n      <td>1619489889</td>\n    </tr>\n    <tr>\n      <th>2</th>\n      <td>2</td>\n      <td>punta arenas</td>\n      <td>CL</td>\n      <td>-53.1500</td>\n      <td>-70.9167</td>\n      <td>42.8</td>\n      <td>100</td>\n      <td>90</td>\n      <td>3.44</td>\n      <td>1619489651</td>\n    </tr>\n    <tr>\n      <th>3</th>\n      <td>3</td>\n      <td>hermanus</td>\n      <td>ZA</td>\n      <td>-34.4187</td>\n      <td>19.2345</td>\n      <td>61.0</td>\n      <td>88</td>\n      <td>98</td>\n      <td>2.66</td>\n      <td>1619489890</td>\n    </tr>\n    <tr>\n      <th>4</th>\n      <td>4</td>\n      <td>qaanaaq</td>\n      <td>GL</td>\n      <td>77.4840</td>\n      <td>-69.3632</td>\n      <td>35.6</td>\n      <td>69</td>\n      <td>100</td>\n      <td>7.31</td>\n      <td>1619490404</td>\n    </tr>\n  </tbody>\n</table>\n</div>"
     },
     "metadata": {},
     "execution_count": 34
    }
   ],
   "source": [
    "cities_df = pd.read_csv('output_data/cities.csv') # using temp file. Use actual file that was saved in weatherpy\n",
    "cities_df.head()"
   ]
  },
  {
   "cell_type": "markdown",
   "metadata": {},
   "source": [
    "### Humidity Heatmap\n",
    "* Configure gmaps.\n",
    "* Use the Lat and Lng as locations and Humidity as the weight.\n",
    "* Add Heatmap layer to map."
   ]
  },
  {
   "cell_type": "code",
   "execution_count": 35,
   "metadata": {},
   "outputs": [
    {
     "output_type": "execute_result",
     "data": {
      "text/plain": [
       "100.0"
      ]
     },
     "metadata": {},
     "execution_count": 35
    }
   ],
   "source": [
    "locations = cities_df[[\"Lat\", \"Lon\"]]\n",
    "humidity = cities_df[\"Humidity\"].astype(float)\n",
    "max_humidity = humidity.max()\n",
    "max_humidity"
   ]
  },
  {
   "cell_type": "code",
   "execution_count": 36,
   "metadata": {},
   "outputs": [
    {
     "output_type": "display_data",
     "data": {
      "text/plain": "Figure(layout=FigureLayout(height='420px'))",
      "application/vnd.jupyter.widget-view+json": {
       "version_major": 2,
       "version_minor": 0,
       "model_id": "90ce91086f814631b8c076f2fd42b23b"
      }
     },
     "metadata": {}
    }
   ],
   "source": [
    "# Plot Heatmap\n",
    "fig = gmaps.figure()\n",
    "\n",
    "# Create heat layer\n",
    "heat_layer = gmaps.heatmap_layer(locations, weights=humidity, \n",
    "                                 dissipating=False, max_intensity=max_humidity,\n",
    "                                 point_radius=3)\n",
    "\n",
    "\n",
    "# Add layer\n",
    "fig.add_layer(heat_layer)\n",
    "\n",
    "# Display figure\n",
    "fig"
   ]
  },
  {
   "cell_type": "markdown",
   "metadata": {},
   "source": [
    "### Create new DataFrame fitting weather criteria\n",
    "* Narrow down the cities to fit weather conditions.\n",
    "* Drop any rows will null values."
   ]
  },
  {
   "cell_type": "code",
   "execution_count": 37,
   "metadata": {},
   "outputs": [
    {
     "output_type": "execute_result",
     "data": {
      "text/plain": [
       "     Unnamed: 0                 City country      Lat       Lon  Max Temp  \\\n",
       "77           77            inhambane      MZ -23.8650   35.3833     71.08   \n",
       "112         112            carnarvon      AU -24.8667  113.6333     78.80   \n",
       "160         160       porto nacional      BR -10.7081  -48.4172     75.20   \n",
       "175         175               riyadh      SA  24.6877   46.7219     75.20   \n",
       "202         202           esmeraldas      BR -19.7625  -44.3139     73.40   \n",
       "238         238        alta floresta      BR  -9.8756  -56.0861     73.40   \n",
       "343         343               yaypan      UZ  40.3758   70.8156     71.53   \n",
       "400         400  santa cruz cabralia      BR -16.2781  -39.0247     75.20   \n",
       "517         517              parrita      CR   9.5201  -84.3225     71.60   \n",
       "\n",
       "     Humidity  Cloudiness  Wind Speed        Date  \n",
       "77         89           0        4.79  1619490421  \n",
       "112        47           0        3.44  1619489912  \n",
       "160       100           0        3.44  1619490443  \n",
       "175        22           0        9.31  1619489628  \n",
       "202        78           0        2.30  1619490453  \n",
       "238       100           0        2.30  1619489936  \n",
       "343        29           0        4.72  1619490492  \n",
       "400        78           0        5.75  1619490508  \n",
       "517        78           0        9.22  1619490545  "
      ],
      "text/html": "<div>\n<style scoped>\n    .dataframe tbody tr th:only-of-type {\n        vertical-align: middle;\n    }\n\n    .dataframe tbody tr th {\n        vertical-align: top;\n    }\n\n    .dataframe thead th {\n        text-align: right;\n    }\n</style>\n<table border=\"1\" class=\"dataframe\">\n  <thead>\n    <tr style=\"text-align: right;\">\n      <th></th>\n      <th>Unnamed: 0</th>\n      <th>City</th>\n      <th>country</th>\n      <th>Lat</th>\n      <th>Lon</th>\n      <th>Max Temp</th>\n      <th>Humidity</th>\n      <th>Cloudiness</th>\n      <th>Wind Speed</th>\n      <th>Date</th>\n    </tr>\n  </thead>\n  <tbody>\n    <tr>\n      <th>77</th>\n      <td>77</td>\n      <td>inhambane</td>\n      <td>MZ</td>\n      <td>-23.8650</td>\n      <td>35.3833</td>\n      <td>71.08</td>\n      <td>89</td>\n      <td>0</td>\n      <td>4.79</td>\n      <td>1619490421</td>\n    </tr>\n    <tr>\n      <th>112</th>\n      <td>112</td>\n      <td>carnarvon</td>\n      <td>AU</td>\n      <td>-24.8667</td>\n      <td>113.6333</td>\n      <td>78.80</td>\n      <td>47</td>\n      <td>0</td>\n      <td>3.44</td>\n      <td>1619489912</td>\n    </tr>\n    <tr>\n      <th>160</th>\n      <td>160</td>\n      <td>porto nacional</td>\n      <td>BR</td>\n      <td>-10.7081</td>\n      <td>-48.4172</td>\n      <td>75.20</td>\n      <td>100</td>\n      <td>0</td>\n      <td>3.44</td>\n      <td>1619490443</td>\n    </tr>\n    <tr>\n      <th>175</th>\n      <td>175</td>\n      <td>riyadh</td>\n      <td>SA</td>\n      <td>24.6877</td>\n      <td>46.7219</td>\n      <td>75.20</td>\n      <td>22</td>\n      <td>0</td>\n      <td>9.31</td>\n      <td>1619489628</td>\n    </tr>\n    <tr>\n      <th>202</th>\n      <td>202</td>\n      <td>esmeraldas</td>\n      <td>BR</td>\n      <td>-19.7625</td>\n      <td>-44.3139</td>\n      <td>73.40</td>\n      <td>78</td>\n      <td>0</td>\n      <td>2.30</td>\n      <td>1619490453</td>\n    </tr>\n    <tr>\n      <th>238</th>\n      <td>238</td>\n      <td>alta floresta</td>\n      <td>BR</td>\n      <td>-9.8756</td>\n      <td>-56.0861</td>\n      <td>73.40</td>\n      <td>100</td>\n      <td>0</td>\n      <td>2.30</td>\n      <td>1619489936</td>\n    </tr>\n    <tr>\n      <th>343</th>\n      <td>343</td>\n      <td>yaypan</td>\n      <td>UZ</td>\n      <td>40.3758</td>\n      <td>70.8156</td>\n      <td>71.53</td>\n      <td>29</td>\n      <td>0</td>\n      <td>4.72</td>\n      <td>1619490492</td>\n    </tr>\n    <tr>\n      <th>400</th>\n      <td>400</td>\n      <td>santa cruz cabralia</td>\n      <td>BR</td>\n      <td>-16.2781</td>\n      <td>-39.0247</td>\n      <td>75.20</td>\n      <td>78</td>\n      <td>0</td>\n      <td>5.75</td>\n      <td>1619490508</td>\n    </tr>\n    <tr>\n      <th>517</th>\n      <td>517</td>\n      <td>parrita</td>\n      <td>CR</td>\n      <td>9.5201</td>\n      <td>-84.3225</td>\n      <td>71.60</td>\n      <td>78</td>\n      <td>0</td>\n      <td>9.22</td>\n      <td>1619490545</td>\n    </tr>\n  </tbody>\n</table>\n</div>"
     },
     "metadata": {},
     "execution_count": 37
    }
   ],
   "source": [
    "perfect_weather_df = cities_df.loc[(cities_df[\"Max Temp\"] < 80) & (cities_df[\"Max Temp\"] > 70) & (cities_df[\"Wind Speed\"] < 10) & (cities_df[\"Cloudiness\"] == 0)]\n",
    "perfect_weather_df.dropna(how='any')\n",
    "perfect_weather_df\n"
   ]
  },
  {
   "cell_type": "markdown",
   "metadata": {},
   "source": [
    "### Hotel Map\n",
    "* Store into variable named `hotel_df`.\n",
    "* Add a \"Hotel Name\" column to the DataFrame.\n",
    "* Set parameters to search for hotels with 5000 meters.\n",
    "* Hit the Google Places API for each city's coordinates.\n",
    "* Store the first Hotel result into the DataFrame.\n",
    "* Plot markers on top of the heatmap."
   ]
  },
  {
   "cell_type": "code",
   "execution_count": 42,
   "metadata": {},
   "outputs": [
    {
     "output_type": "stream",
     "name": "stderr",
     "text": [
      "<ipython-input-42-57f0f40a7529>:3: SettingWithCopyWarning: \nA value is trying to be set on a copy of a slice from a DataFrame.\nTry using .loc[row_indexer,col_indexer] = value instead\n\nSee the caveats in the documentation: https://pandas.pydata.org/pandas-docs/stable/user_guide/indexing.html#returning-a-view-versus-a-copy\n  hotel_df['Hotel'] = \"\"\n"
     ]
    },
    {
     "output_type": "execute_result",
     "data": {
      "text/plain": [
       "     Unnamed: 0                 City country      Lat       Lon  Max Temp  \\\n",
       "77           77            inhambane      MZ -23.8650   35.3833     71.08   \n",
       "112         112            carnarvon      AU -24.8667  113.6333     78.80   \n",
       "160         160       porto nacional      BR -10.7081  -48.4172     75.20   \n",
       "175         175               riyadh      SA  24.6877   46.7219     75.20   \n",
       "202         202           esmeraldas      BR -19.7625  -44.3139     73.40   \n",
       "238         238        alta floresta      BR  -9.8756  -56.0861     73.40   \n",
       "343         343               yaypan      UZ  40.3758   70.8156     71.53   \n",
       "400         400  santa cruz cabralia      BR -16.2781  -39.0247     75.20   \n",
       "517         517              parrita      CR   9.5201  -84.3225     71.60   \n",
       "\n",
       "     Humidity  Cloudiness  Wind Speed        Date Hotel  \n",
       "77         89           0        4.79  1619490421        \n",
       "112        47           0        3.44  1619489912        \n",
       "160       100           0        3.44  1619490443        \n",
       "175        22           0        9.31  1619489628        \n",
       "202        78           0        2.30  1619490453        \n",
       "238       100           0        2.30  1619489936        \n",
       "343        29           0        4.72  1619490492        \n",
       "400        78           0        5.75  1619490508        \n",
       "517        78           0        9.22  1619490545        "
      ],
      "text/html": "<div>\n<style scoped>\n    .dataframe tbody tr th:only-of-type {\n        vertical-align: middle;\n    }\n\n    .dataframe tbody tr th {\n        vertical-align: top;\n    }\n\n    .dataframe thead th {\n        text-align: right;\n    }\n</style>\n<table border=\"1\" class=\"dataframe\">\n  <thead>\n    <tr style=\"text-align: right;\">\n      <th></th>\n      <th>Unnamed: 0</th>\n      <th>City</th>\n      <th>country</th>\n      <th>Lat</th>\n      <th>Lon</th>\n      <th>Max Temp</th>\n      <th>Humidity</th>\n      <th>Cloudiness</th>\n      <th>Wind Speed</th>\n      <th>Date</th>\n      <th>Hotel</th>\n    </tr>\n  </thead>\n  <tbody>\n    <tr>\n      <th>77</th>\n      <td>77</td>\n      <td>inhambane</td>\n      <td>MZ</td>\n      <td>-23.8650</td>\n      <td>35.3833</td>\n      <td>71.08</td>\n      <td>89</td>\n      <td>0</td>\n      <td>4.79</td>\n      <td>1619490421</td>\n      <td></td>\n    </tr>\n    <tr>\n      <th>112</th>\n      <td>112</td>\n      <td>carnarvon</td>\n      <td>AU</td>\n      <td>-24.8667</td>\n      <td>113.6333</td>\n      <td>78.80</td>\n      <td>47</td>\n      <td>0</td>\n      <td>3.44</td>\n      <td>1619489912</td>\n      <td></td>\n    </tr>\n    <tr>\n      <th>160</th>\n      <td>160</td>\n      <td>porto nacional</td>\n      <td>BR</td>\n      <td>-10.7081</td>\n      <td>-48.4172</td>\n      <td>75.20</td>\n      <td>100</td>\n      <td>0</td>\n      <td>3.44</td>\n      <td>1619490443</td>\n      <td></td>\n    </tr>\n    <tr>\n      <th>175</th>\n      <td>175</td>\n      <td>riyadh</td>\n      <td>SA</td>\n      <td>24.6877</td>\n      <td>46.7219</td>\n      <td>75.20</td>\n      <td>22</td>\n      <td>0</td>\n      <td>9.31</td>\n      <td>1619489628</td>\n      <td></td>\n    </tr>\n    <tr>\n      <th>202</th>\n      <td>202</td>\n      <td>esmeraldas</td>\n      <td>BR</td>\n      <td>-19.7625</td>\n      <td>-44.3139</td>\n      <td>73.40</td>\n      <td>78</td>\n      <td>0</td>\n      <td>2.30</td>\n      <td>1619490453</td>\n      <td></td>\n    </tr>\n    <tr>\n      <th>238</th>\n      <td>238</td>\n      <td>alta floresta</td>\n      <td>BR</td>\n      <td>-9.8756</td>\n      <td>-56.0861</td>\n      <td>73.40</td>\n      <td>100</td>\n      <td>0</td>\n      <td>2.30</td>\n      <td>1619489936</td>\n      <td></td>\n    </tr>\n    <tr>\n      <th>343</th>\n      <td>343</td>\n      <td>yaypan</td>\n      <td>UZ</td>\n      <td>40.3758</td>\n      <td>70.8156</td>\n      <td>71.53</td>\n      <td>29</td>\n      <td>0</td>\n      <td>4.72</td>\n      <td>1619490492</td>\n      <td></td>\n    </tr>\n    <tr>\n      <th>400</th>\n      <td>400</td>\n      <td>santa cruz cabralia</td>\n      <td>BR</td>\n      <td>-16.2781</td>\n      <td>-39.0247</td>\n      <td>75.20</td>\n      <td>78</td>\n      <td>0</td>\n      <td>5.75</td>\n      <td>1619490508</td>\n      <td></td>\n    </tr>\n    <tr>\n      <th>517</th>\n      <td>517</td>\n      <td>parrita</td>\n      <td>CR</td>\n      <td>9.5201</td>\n      <td>-84.3225</td>\n      <td>71.60</td>\n      <td>78</td>\n      <td>0</td>\n      <td>9.22</td>\n      <td>1619490545</td>\n      <td></td>\n    </tr>\n  </tbody>\n</table>\n</div>"
     },
     "metadata": {},
     "execution_count": 42
    }
   ],
   "source": [
    "# set up additional columns to hold information\n",
    "hotel_df = perfect_weather_df\n",
    "hotel_df['Hotel'] = \"\"\n",
    "hotel_df"
   ]
  },
  {
   "cell_type": "code",
   "execution_count": 43,
   "metadata": {},
   "outputs": [
    {
     "output_type": "stream",
     "name": "stderr",
     "text": [
      "/Users/kinjalmaru/opt/anaconda3/lib/python3.8/site-packages/pandas/core/indexing.py:1765: SettingWithCopyWarning: \n",
      "A value is trying to be set on a copy of a slice from a DataFrame.\n",
      "Try using .loc[row_indexer,col_indexer] = value instead\n",
      "\n",
      "See the caveats in the documentation: https://pandas.pydata.org/pandas-docs/stable/user_guide/indexing.html#returning-a-view-versus-a-copy\n",
      "  isetter(loc, value)\n",
      "Missing field/result... skipping.\n"
     ]
    }
   ],
   "source": [
    "# params dictionary to update each iteration\n",
    "params = {\n",
    "    \"radius\": 5000,\n",
    "    \"types\": \"hotel\",\n",
    "    \"keyword\": \"hotel\",\n",
    "    \"key\": g_key\n",
    "}\n",
    "\n",
    "# Use the lat/lng we recovered to identify airports\n",
    "for index, row in hotel_df.iterrows():\n",
    "    # get lat, lng from df\n",
    "    lat = row[\"Lat\"]\n",
    "    lon = row[\"Lon\"]\n",
    "\n",
    "    # change location each iteration while leaving original params in place\n",
    "    params[\"location\"] = f\"{lat},{lon}\"\n",
    "\n",
    "    # Use the search term: \"International Airport\" and our lat/lng\n",
    "    base_url = \"https://maps.googleapis.com/maps/api/place/nearbysearch/json\"\n",
    "\n",
    "    # make request and print url\n",
    "    name_address = requests.get(base_url, params=params)\n",
    "    \n",
    "#     print the name_address url, avoid doing for public github repos in order to avoid exposing key\n",
    "#     print(name_address.url)\n",
    "\n",
    "    # convert to json\n",
    "    name_address = name_address.json()\n",
    "    # print(json.dumps(name_address, indent=4, sort_keys=True))\n",
    "\n",
    "    # Since some data may be missing we incorporate a try-except to skip any that are missing a data point.\n",
    "    try:\n",
    "        hotel_df.loc[index, \"Hotel\"] = name_address[\"results\"][0][\"name\"]\n",
    "    except (KeyError, IndexError):\n",
    "        print(\"Missing field/result... skipping.\")"
   ]
  },
  {
   "cell_type": "code",
   "execution_count": 44,
   "metadata": {},
   "outputs": [
    {
     "output_type": "execute_result",
     "data": {
      "text/plain": [
       "     Unnamed: 0                 City country      Lat       Lon  Max Temp  \\\n",
       "77           77            inhambane      MZ -23.8650   35.3833     71.08   \n",
       "112         112            carnarvon      AU -24.8667  113.6333     78.80   \n",
       "160         160       porto nacional      BR -10.7081  -48.4172     75.20   \n",
       "175         175               riyadh      SA  24.6877   46.7219     75.20   \n",
       "202         202           esmeraldas      BR -19.7625  -44.3139     73.40   \n",
       "238         238        alta floresta      BR  -9.8756  -56.0861     73.40   \n",
       "343         343               yaypan      UZ  40.3758   70.8156     71.53   \n",
       "400         400  santa cruz cabralia      BR -16.2781  -39.0247     75.20   \n",
       "517         517              parrita      CR   9.5201  -84.3225     71.60   \n",
       "\n",
       "     Humidity  Cloudiness  Wind Speed        Date  \\\n",
       "77         89           0        4.79  1619490421   \n",
       "112        47           0        3.44  1619489912   \n",
       "160       100           0        3.44  1619490443   \n",
       "175        22           0        9.31  1619489628   \n",
       "202        78           0        2.30  1619490453   \n",
       "238       100           0        2.30  1619489936   \n",
       "343        29           0        4.72  1619490492   \n",
       "400        78           0        5.75  1619490508   \n",
       "517        78           0        9.22  1619490545   \n",
       "\n",
       "                                Hotel  \n",
       "77             Sentidos Beach Retreat  \n",
       "112             Hospitality Carnarvon  \n",
       "160                   Vila Real Hotel  \n",
       "175        Hyatt Regency Riyadh Olaya  \n",
       "202  Parque do Avestruz Hotel Fazenda  \n",
       "238          Hotel Caleche Park Hotel  \n",
       "343                                    \n",
       "400                       Campo Bahia  \n",
       "517                     Hotel Cocomar  "
      ],
      "text/html": "<div>\n<style scoped>\n    .dataframe tbody tr th:only-of-type {\n        vertical-align: middle;\n    }\n\n    .dataframe tbody tr th {\n        vertical-align: top;\n    }\n\n    .dataframe thead th {\n        text-align: right;\n    }\n</style>\n<table border=\"1\" class=\"dataframe\">\n  <thead>\n    <tr style=\"text-align: right;\">\n      <th></th>\n      <th>Unnamed: 0</th>\n      <th>City</th>\n      <th>country</th>\n      <th>Lat</th>\n      <th>Lon</th>\n      <th>Max Temp</th>\n      <th>Humidity</th>\n      <th>Cloudiness</th>\n      <th>Wind Speed</th>\n      <th>Date</th>\n      <th>Hotel</th>\n    </tr>\n  </thead>\n  <tbody>\n    <tr>\n      <th>77</th>\n      <td>77</td>\n      <td>inhambane</td>\n      <td>MZ</td>\n      <td>-23.8650</td>\n      <td>35.3833</td>\n      <td>71.08</td>\n      <td>89</td>\n      <td>0</td>\n      <td>4.79</td>\n      <td>1619490421</td>\n      <td>Sentidos Beach Retreat</td>\n    </tr>\n    <tr>\n      <th>112</th>\n      <td>112</td>\n      <td>carnarvon</td>\n      <td>AU</td>\n      <td>-24.8667</td>\n      <td>113.6333</td>\n      <td>78.80</td>\n      <td>47</td>\n      <td>0</td>\n      <td>3.44</td>\n      <td>1619489912</td>\n      <td>Hospitality Carnarvon</td>\n    </tr>\n    <tr>\n      <th>160</th>\n      <td>160</td>\n      <td>porto nacional</td>\n      <td>BR</td>\n      <td>-10.7081</td>\n      <td>-48.4172</td>\n      <td>75.20</td>\n      <td>100</td>\n      <td>0</td>\n      <td>3.44</td>\n      <td>1619490443</td>\n      <td>Vila Real Hotel</td>\n    </tr>\n    <tr>\n      <th>175</th>\n      <td>175</td>\n      <td>riyadh</td>\n      <td>SA</td>\n      <td>24.6877</td>\n      <td>46.7219</td>\n      <td>75.20</td>\n      <td>22</td>\n      <td>0</td>\n      <td>9.31</td>\n      <td>1619489628</td>\n      <td>Hyatt Regency Riyadh Olaya</td>\n    </tr>\n    <tr>\n      <th>202</th>\n      <td>202</td>\n      <td>esmeraldas</td>\n      <td>BR</td>\n      <td>-19.7625</td>\n      <td>-44.3139</td>\n      <td>73.40</td>\n      <td>78</td>\n      <td>0</td>\n      <td>2.30</td>\n      <td>1619490453</td>\n      <td>Parque do Avestruz Hotel Fazenda</td>\n    </tr>\n    <tr>\n      <th>238</th>\n      <td>238</td>\n      <td>alta floresta</td>\n      <td>BR</td>\n      <td>-9.8756</td>\n      <td>-56.0861</td>\n      <td>73.40</td>\n      <td>100</td>\n      <td>0</td>\n      <td>2.30</td>\n      <td>1619489936</td>\n      <td>Hotel Caleche Park Hotel</td>\n    </tr>\n    <tr>\n      <th>343</th>\n      <td>343</td>\n      <td>yaypan</td>\n      <td>UZ</td>\n      <td>40.3758</td>\n      <td>70.8156</td>\n      <td>71.53</td>\n      <td>29</td>\n      <td>0</td>\n      <td>4.72</td>\n      <td>1619490492</td>\n      <td></td>\n    </tr>\n    <tr>\n      <th>400</th>\n      <td>400</td>\n      <td>santa cruz cabralia</td>\n      <td>BR</td>\n      <td>-16.2781</td>\n      <td>-39.0247</td>\n      <td>75.20</td>\n      <td>78</td>\n      <td>0</td>\n      <td>5.75</td>\n      <td>1619490508</td>\n      <td>Campo Bahia</td>\n    </tr>\n    <tr>\n      <th>517</th>\n      <td>517</td>\n      <td>parrita</td>\n      <td>CR</td>\n      <td>9.5201</td>\n      <td>-84.3225</td>\n      <td>71.60</td>\n      <td>78</td>\n      <td>0</td>\n      <td>9.22</td>\n      <td>1619490545</td>\n      <td>Hotel Cocomar</td>\n    </tr>\n  </tbody>\n</table>\n</div>"
     },
     "metadata": {},
     "execution_count": 44
    }
   ],
   "source": [
    "hotel_df"
   ]
  },
  {
   "cell_type": "code",
   "execution_count": 45,
   "metadata": {},
   "outputs": [
    {
     "output_type": "error",
     "ename": "KeyError",
     "evalue": "'Country'",
     "traceback": [
      "\u001b[0;31m---------------------------------------------------------------------------\u001b[0m",
      "\u001b[0;31mKeyError\u001b[0m                                  Traceback (most recent call last)",
      "\u001b[0;32m<ipython-input-45-7516175311b0>\u001b[0m in \u001b[0;36m<module>\u001b[0;34m\u001b[0m\n\u001b[1;32m     12\u001b[0m \u001b[0;31m# Store the DataFrame Row\u001b[0m\u001b[0;34m\u001b[0m\u001b[0;34m\u001b[0m\u001b[0;34m\u001b[0m\u001b[0m\n\u001b[1;32m     13\u001b[0m \u001b[0;31m# NOTE: be sure to update with your DataFrame name\u001b[0m\u001b[0;34m\u001b[0m\u001b[0;34m\u001b[0m\u001b[0;34m\u001b[0m\u001b[0m\n\u001b[0;32m---> 14\u001b[0;31m \u001b[0mhotel_info\u001b[0m \u001b[0;34m=\u001b[0m \u001b[0;34m[\u001b[0m\u001b[0minfo_box_template\u001b[0m\u001b[0;34m.\u001b[0m\u001b[0mformat\u001b[0m\u001b[0;34m(\u001b[0m\u001b[0;34m**\u001b[0m\u001b[0mrow\u001b[0m\u001b[0;34m)\u001b[0m \u001b[0;32mfor\u001b[0m \u001b[0mindex\u001b[0m\u001b[0;34m,\u001b[0m \u001b[0mrow\u001b[0m \u001b[0;32min\u001b[0m \u001b[0mhotel_df\u001b[0m\u001b[0;34m.\u001b[0m\u001b[0miterrows\u001b[0m\u001b[0;34m(\u001b[0m\u001b[0;34m)\u001b[0m\u001b[0;34m]\u001b[0m\u001b[0;34m\u001b[0m\u001b[0;34m\u001b[0m\u001b[0m\n\u001b[0m\u001b[1;32m     15\u001b[0m \u001b[0mlocations\u001b[0m \u001b[0;34m=\u001b[0m \u001b[0mhotel_df\u001b[0m\u001b[0;34m[\u001b[0m\u001b[0;34m[\u001b[0m\u001b[0;34m\"Lat\"\u001b[0m\u001b[0;34m,\u001b[0m \u001b[0;34m\"Lon\"\u001b[0m\u001b[0;34m]\u001b[0m\u001b[0;34m]\u001b[0m\u001b[0;34m\u001b[0m\u001b[0;34m\u001b[0m\u001b[0m\n",
      "\u001b[0;32m<ipython-input-45-7516175311b0>\u001b[0m in \u001b[0;36m<listcomp>\u001b[0;34m(.0)\u001b[0m\n\u001b[1;32m     12\u001b[0m \u001b[0;31m# Store the DataFrame Row\u001b[0m\u001b[0;34m\u001b[0m\u001b[0;34m\u001b[0m\u001b[0;34m\u001b[0m\u001b[0m\n\u001b[1;32m     13\u001b[0m \u001b[0;31m# NOTE: be sure to update with your DataFrame name\u001b[0m\u001b[0;34m\u001b[0m\u001b[0;34m\u001b[0m\u001b[0;34m\u001b[0m\u001b[0m\n\u001b[0;32m---> 14\u001b[0;31m \u001b[0mhotel_info\u001b[0m \u001b[0;34m=\u001b[0m \u001b[0;34m[\u001b[0m\u001b[0minfo_box_template\u001b[0m\u001b[0;34m.\u001b[0m\u001b[0mformat\u001b[0m\u001b[0;34m(\u001b[0m\u001b[0;34m**\u001b[0m\u001b[0mrow\u001b[0m\u001b[0;34m)\u001b[0m \u001b[0;32mfor\u001b[0m \u001b[0mindex\u001b[0m\u001b[0;34m,\u001b[0m \u001b[0mrow\u001b[0m \u001b[0;32min\u001b[0m \u001b[0mhotel_df\u001b[0m\u001b[0;34m.\u001b[0m\u001b[0miterrows\u001b[0m\u001b[0;34m(\u001b[0m\u001b[0;34m)\u001b[0m\u001b[0;34m]\u001b[0m\u001b[0;34m\u001b[0m\u001b[0;34m\u001b[0m\u001b[0m\n\u001b[0m\u001b[1;32m     15\u001b[0m \u001b[0mlocations\u001b[0m \u001b[0;34m=\u001b[0m \u001b[0mhotel_df\u001b[0m\u001b[0;34m[\u001b[0m\u001b[0;34m[\u001b[0m\u001b[0;34m\"Lat\"\u001b[0m\u001b[0;34m,\u001b[0m \u001b[0;34m\"Lon\"\u001b[0m\u001b[0;34m]\u001b[0m\u001b[0;34m]\u001b[0m\u001b[0;34m\u001b[0m\u001b[0;34m\u001b[0m\u001b[0m\n",
      "\u001b[0;31mKeyError\u001b[0m: 'Country'"
     ]
    }
   ],
   "source": [
    "# NOTE: Do not change any of the code in this cell\n",
    "\n",
    "# Using the template add the hotel marks to the heatmap\n",
    "info_box_template = \"\"\"\n",
    "<dt>City</dt><dd>{City}</dd>\n",
    "<dt>Country</dt><dd>{Country}</dd>\n",
    "<dl>\n",
    "<dt>Name</dt><dd>{Hotel}</dd>\n",
    "\n",
    "</dl>\n",
    "\"\"\"\n",
    "# Store the DataFrame Row\n",
    "# NOTE: be sure to update with your DataFrame name\n",
    "hotel_info = [info_box_template.format(**row) for index, row in hotel_df.iterrows()]\n",
    "locations = hotel_df[[\"Lat\", \"Lon\"]]"
   ]
  },
  {
   "cell_type": "code",
   "execution_count": 32,
   "metadata": {},
   "outputs": [
    {
     "output_type": "display_data",
     "data": {
      "text/plain": "Figure(layout=FigureLayout(border='1px solid black', height='600px', margin='0 auto 0 auto', padding='1px', wi…",
      "application/vnd.jupyter.widget-view+json": {
       "version_major": 2,
       "version_minor": 0,
       "model_id": "ed7e9abc88f2436bb244d05f4fc4b467"
      }
     },
     "metadata": {}
    }
   ],
   "source": [
    "# Add marker layer ontop of heat map\n",
    "\n",
    "figure_layout = {\n",
    "    'width': '900px',\n",
    "    'height': '600px',\n",
    "    'border': '1px solid black',\n",
    "    'padding': '1px',\n",
    "    'margin': '0 auto 0 auto'\n",
    "}\n",
    "fig = gmaps.figure(layout=figure_layout,zoom_level=2,center=(15,25))\n",
    "\n",
    "# Create hotel symbol layer\n",
    "hotel_layer = gmaps.marker_layer(\n",
    "    locations,info_box_content=[info_box_template.format(**row) for index, row in hotel_df.iterrows()]\n",
    ")\n",
    "\n",
    "\n",
    "# Add layer\n",
    "fig.add_layer(heat_layer)\n",
    "fig.add_layer(hotel_layer)\n",
    "# Display figure\n",
    "fig\n"
   ]
  },
  {
   "cell_type": "code",
   "execution_count": null,
   "metadata": {},
   "outputs": [],
   "source": []
  }
 ],
 "metadata": {
  "kernelspec": {
   "name": "python3",
   "display_name": "Python 3.8.5 64-bit ('base': conda)",
   "metadata": {
    "interpreter": {
     "hash": "db9e521301de1982cbfc3dc95423fba6132bdd7922afdbf03516b684579cfb6e"
    }
   }
  },
  "language_info": {
   "codemirror_mode": {
    "name": "ipython",
    "version": 3
   },
   "file_extension": ".py",
   "mimetype": "text/x-python",
   "name": "python",
   "nbconvert_exporter": "python",
   "pygments_lexer": "ipython3",
   "version": "3.8.5"
  },
  "latex_envs": {
   "LaTeX_envs_menu_present": true,
   "autoclose": false,
   "autocomplete": true,
   "bibliofile": "biblio.bib",
   "cite_by": "apalike",
   "current_citInitial": 1,
   "eqLabelWithNumbers": true,
   "eqNumInitial": 1,
   "hotkeys": {
    "equation": "Ctrl-E",
    "itemize": "Ctrl-I"
   },
   "labels_anchors": false,
   "latex_user_defs": false,
   "report_style_numbering": false,
   "user_envs_cfg": false
  }
 },
 "nbformat": 4,
 "nbformat_minor": 4
}