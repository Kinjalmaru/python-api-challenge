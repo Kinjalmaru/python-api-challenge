{
 "cells": [
  {
   "cell_type": "markdown",
   "metadata": {},
   "source": [
    "# VacationPy\n",
    "----\n",
    "\n",
    "#### Note\n",
    "* Keep an eye on your API usage. Use https://developers.google.com/maps/reporting/gmp-reporting as reference for how to monitor your usage and billing.\n",
    "\n",
    "* Instructions have been included for each segment. You do not have to follow them exactly, but they are included to help you think through the steps."
   ]
  },
  {
   "cell_type": "code",
   "execution_count": 13,
   "metadata": {},
   "outputs": [],
   "source": [
    "# Dependencies and Setup\n",
    "import matplotlib.pyplot as plt\n",
    "import pandas as pd\n",
    "import numpy as np\n",
    "import requests\n",
    "import json\n",
    "import gmaps\n",
    "import os\n",
    "\n",
    "# Import API key\n",
    "from api_keys import g_key"
   ]
  },
  {
   "cell_type": "markdown",
   "metadata": {},
   "source": [
    "### Store Part I results into DataFrame\n",
    "* Load the csv exported in Part I to a DataFrame"
   ]
  },
  {
   "cell_type": "code",
   "execution_count": 14,
   "metadata": {},
   "outputs": [
    {
     "output_type": "execute_result",
     "data": {
      "text/plain": [
       "   Unnamed: 0         City      Lat       Lon  Max Temp  Humidity  Cloudiness  \\\n",
       "0           0        bluff -46.6000  168.3333     48.99        77          96   \n",
       "1           1       castro -24.7911  -50.0119     59.99        74          75   \n",
       "2           2     consdorf  49.7731    6.3383     42.80        65           0   \n",
       "3           3   beitbridge -22.2167   30.0000     66.78        35           0   \n",
       "4           4  grand gaube -20.0064   57.6608     75.99        84         100   \n",
       "\n",
       "   Wind Speed        Date  \n",
       "0        7.00  1619308766  \n",
       "1        2.01  1619308882  \n",
       "2       14.97  1619309248  \n",
       "3        4.68  1619309248  \n",
       "4        7.00  1619309248  "
      ],
      "text/html": "<div>\n<style scoped>\n    .dataframe tbody tr th:only-of-type {\n        vertical-align: middle;\n    }\n\n    .dataframe tbody tr th {\n        vertical-align: top;\n    }\n\n    .dataframe thead th {\n        text-align: right;\n    }\n</style>\n<table border=\"1\" class=\"dataframe\">\n  <thead>\n    <tr style=\"text-align: right;\">\n      <th></th>\n      <th>Unnamed: 0</th>\n      <th>City</th>\n      <th>Lat</th>\n      <th>Lon</th>\n      <th>Max Temp</th>\n      <th>Humidity</th>\n      <th>Cloudiness</th>\n      <th>Wind Speed</th>\n      <th>Date</th>\n    </tr>\n  </thead>\n  <tbody>\n    <tr>\n      <th>0</th>\n      <td>0</td>\n      <td>bluff</td>\n      <td>-46.6000</td>\n      <td>168.3333</td>\n      <td>48.99</td>\n      <td>77</td>\n      <td>96</td>\n      <td>7.00</td>\n      <td>1619308766</td>\n    </tr>\n    <tr>\n      <th>1</th>\n      <td>1</td>\n      <td>castro</td>\n      <td>-24.7911</td>\n      <td>-50.0119</td>\n      <td>59.99</td>\n      <td>74</td>\n      <td>75</td>\n      <td>2.01</td>\n      <td>1619308882</td>\n    </tr>\n    <tr>\n      <th>2</th>\n      <td>2</td>\n      <td>consdorf</td>\n      <td>49.7731</td>\n      <td>6.3383</td>\n      <td>42.80</td>\n      <td>65</td>\n      <td>0</td>\n      <td>14.97</td>\n      <td>1619309248</td>\n    </tr>\n    <tr>\n      <th>3</th>\n      <td>3</td>\n      <td>beitbridge</td>\n      <td>-22.2167</td>\n      <td>30.0000</td>\n      <td>66.78</td>\n      <td>35</td>\n      <td>0</td>\n      <td>4.68</td>\n      <td>1619309248</td>\n    </tr>\n    <tr>\n      <th>4</th>\n      <td>4</td>\n      <td>grand gaube</td>\n      <td>-20.0064</td>\n      <td>57.6608</td>\n      <td>75.99</td>\n      <td>84</td>\n      <td>100</td>\n      <td>7.00</td>\n      <td>1619309248</td>\n    </tr>\n  </tbody>\n</table>\n</div>"
     },
     "metadata": {},
     "execution_count": 14
    }
   ],
   "source": [
    "cities_df = pd.read_csv('output_data/cities.csv') # using temp file. Use actual file that was saved in weatherpy\n",
    "cities_df.head()"
   ]
  },
  {
   "cell_type": "markdown",
   "metadata": {},
   "source": [
    "### Humidity Heatmap\n",
    "* Configure gmaps.\n",
    "* Use the Lat and Lng as locations and Humidity as the weight.\n",
    "* Add Heatmap layer to map."
   ]
  },
  {
   "cell_type": "code",
   "execution_count": 15,
   "metadata": {},
   "outputs": [
    {
     "output_type": "execute_result",
     "data": {
      "text/plain": [
       "100.0"
      ]
     },
     "metadata": {},
     "execution_count": 15
    }
   ],
   "source": [
    "locations = cities_df[[\"Lat\", \"Lon\"]]\n",
    "humidity = cities_df[\"Humidity\"].astype(float)\n",
    "max_humidity = humidity.max()\n",
    "max_humidity"
   ]
  },
  {
   "cell_type": "code",
   "execution_count": 16,
   "metadata": {},
   "outputs": [
    {
     "output_type": "display_data",
     "data": {
      "text/plain": "Figure(layout=FigureLayout(height='420px'))",
      "application/vnd.jupyter.widget-view+json": {
       "version_major": 2,
       "version_minor": 0,
       "model_id": "0e8eb183243e42308d431e1b41bac83b"
      }
     },
     "metadata": {}
    }
   ],
   "source": [
    "# Plot Heatmap\n",
    "fig = gmaps.figure()\n",
    "\n",
    "# Create heat layer\n",
    "heat_layer = gmaps.heatmap_layer(locations, weights=humidity, \n",
    "                                 dissipating=False, max_intensity=max_humidity,\n",
    "                                 point_radius=3)\n",
    "\n",
    "\n",
    "# Add layer\n",
    "fig.add_layer(heat_layer)\n",
    "\n",
    "# Display figure\n",
    "fig"
   ]
  },
  {
   "cell_type": "markdown",
   "metadata": {},
   "source": [
    "### Create new DataFrame fitting weather criteria\n",
    "* Narrow down the cities to fit weather conditions.\n",
    "* Drop any rows will null values."
   ]
  },
  {
   "cell_type": "code",
   "execution_count": 17,
   "metadata": {},
   "outputs": [
    {
     "output_type": "execute_result",
     "data": {
      "text/plain": [
       "     Unnamed: 0          City      Lat       Lon  Max Temp  Humidity  \\\n",
       "23           23  port hedland -20.3167  118.5667     77.00        29   \n",
       "73           73     aragarcas -15.8975  -52.2508     73.40        78   \n",
       "128         128      beroroha -21.6667   45.1667     71.89        68   \n",
       "189         189    hervey bay -25.2986  152.8535     75.00        66   \n",
       "349         349     dalbandin  28.8947   64.4101     74.80        10   \n",
       "354         354        maceio  -9.6658  -35.7353     75.20        94   \n",
       "370         370      oussouye  12.4850  -16.5469     73.40        88   \n",
       "408         408   sainte-rose  16.3324  -61.6979     78.80        73   \n",
       "436         436        riyadh  24.6877   46.7219     78.80        21   \n",
       "480         480    amalapuram  16.5833   82.0167     77.67        88   \n",
       "\n",
       "     Cloudiness  Wind Speed        Date  \n",
       "23            0        9.22  1619309251  \n",
       "73            0        1.52  1619309263  \n",
       "128           0        4.14  1619309273  \n",
       "189           0        4.00  1619309044  \n",
       "349           0        4.81  1619309329  \n",
       "354           0        4.61  1619309031  \n",
       "370           0        4.61  1619309335  \n",
       "408           0        5.75  1619309345  \n",
       "436           0        6.17  1619308832  \n",
       "480           0        1.97  1619309364  "
      ],
      "text/html": "<div>\n<style scoped>\n    .dataframe tbody tr th:only-of-type {\n        vertical-align: middle;\n    }\n\n    .dataframe tbody tr th {\n        vertical-align: top;\n    }\n\n    .dataframe thead th {\n        text-align: right;\n    }\n</style>\n<table border=\"1\" class=\"dataframe\">\n  <thead>\n    <tr style=\"text-align: right;\">\n      <th></th>\n      <th>Unnamed: 0</th>\n      <th>City</th>\n      <th>Lat</th>\n      <th>Lon</th>\n      <th>Max Temp</th>\n      <th>Humidity</th>\n      <th>Cloudiness</th>\n      <th>Wind Speed</th>\n      <th>Date</th>\n    </tr>\n  </thead>\n  <tbody>\n    <tr>\n      <th>23</th>\n      <td>23</td>\n      <td>port hedland</td>\n      <td>-20.3167</td>\n      <td>118.5667</td>\n      <td>77.00</td>\n      <td>29</td>\n      <td>0</td>\n      <td>9.22</td>\n      <td>1619309251</td>\n    </tr>\n    <tr>\n      <th>73</th>\n      <td>73</td>\n      <td>aragarcas</td>\n      <td>-15.8975</td>\n      <td>-52.2508</td>\n      <td>73.40</td>\n      <td>78</td>\n      <td>0</td>\n      <td>1.52</td>\n      <td>1619309263</td>\n    </tr>\n    <tr>\n      <th>128</th>\n      <td>128</td>\n      <td>beroroha</td>\n      <td>-21.6667</td>\n      <td>45.1667</td>\n      <td>71.89</td>\n      <td>68</td>\n      <td>0</td>\n      <td>4.14</td>\n      <td>1619309273</td>\n    </tr>\n    <tr>\n      <th>189</th>\n      <td>189</td>\n      <td>hervey bay</td>\n      <td>-25.2986</td>\n      <td>152.8535</td>\n      <td>75.00</td>\n      <td>66</td>\n      <td>0</td>\n      <td>4.00</td>\n      <td>1619309044</td>\n    </tr>\n    <tr>\n      <th>349</th>\n      <td>349</td>\n      <td>dalbandin</td>\n      <td>28.8947</td>\n      <td>64.4101</td>\n      <td>74.80</td>\n      <td>10</td>\n      <td>0</td>\n      <td>4.81</td>\n      <td>1619309329</td>\n    </tr>\n    <tr>\n      <th>354</th>\n      <td>354</td>\n      <td>maceio</td>\n      <td>-9.6658</td>\n      <td>-35.7353</td>\n      <td>75.20</td>\n      <td>94</td>\n      <td>0</td>\n      <td>4.61</td>\n      <td>1619309031</td>\n    </tr>\n    <tr>\n      <th>370</th>\n      <td>370</td>\n      <td>oussouye</td>\n      <td>12.4850</td>\n      <td>-16.5469</td>\n      <td>73.40</td>\n      <td>88</td>\n      <td>0</td>\n      <td>4.61</td>\n      <td>1619309335</td>\n    </tr>\n    <tr>\n      <th>408</th>\n      <td>408</td>\n      <td>sainte-rose</td>\n      <td>16.3324</td>\n      <td>-61.6979</td>\n      <td>78.80</td>\n      <td>73</td>\n      <td>0</td>\n      <td>5.75</td>\n      <td>1619309345</td>\n    </tr>\n    <tr>\n      <th>436</th>\n      <td>436</td>\n      <td>riyadh</td>\n      <td>24.6877</td>\n      <td>46.7219</td>\n      <td>78.80</td>\n      <td>21</td>\n      <td>0</td>\n      <td>6.17</td>\n      <td>1619308832</td>\n    </tr>\n    <tr>\n      <th>480</th>\n      <td>480</td>\n      <td>amalapuram</td>\n      <td>16.5833</td>\n      <td>82.0167</td>\n      <td>77.67</td>\n      <td>88</td>\n      <td>0</td>\n      <td>1.97</td>\n      <td>1619309364</td>\n    </tr>\n  </tbody>\n</table>\n</div>"
     },
     "metadata": {},
     "execution_count": 17
    }
   ],
   "source": [
    "perfect_weather_df = cities_df.loc[(cities_df[\"Max Temp\"] < 80) & (cities_df[\"Max Temp\"] > 70) & (cities_df[\"Wind Speed\"] < 10) & (cities_df[\"Cloudiness\"] == 0)]\n",
    "perfect_weather_df.dropna(how='any')\n",
    "perfect_weather_df\n"
   ]
  },
  {
   "cell_type": "markdown",
   "metadata": {},
   "source": [
    "### Hotel Map\n",
    "* Store into variable named `hotel_df`.\n",
    "* Add a \"Hotel Name\" column to the DataFrame.\n",
    "* Set parameters to search for hotels with 5000 meters.\n",
    "* Hit the Google Places API for each city's coordinates.\n",
    "* Store the first Hotel result into the DataFrame.\n",
    "* Plot markers on top of the heatmap."
   ]
  },
  {
   "cell_type": "code",
   "execution_count": 26,
   "metadata": {},
   "outputs": [
    {
     "output_type": "execute_result",
     "data": {
      "text/plain": [
       "             City      Lat       Lon Hotel\n",
       "23   port hedland -20.3167  118.5667      \n",
       "73      aragarcas -15.8975  -52.2508      \n",
       "128      beroroha -21.6667   45.1667      \n",
       "189    hervey bay -25.2986  152.8535      \n",
       "349     dalbandin  28.8947   64.4101      \n",
       "354        maceio  -9.6658  -35.7353      \n",
       "370      oussouye  12.4850  -16.5469      \n",
       "408   sainte-rose  16.3324  -61.6979      \n",
       "436        riyadh  24.6877   46.7219      \n",
       "480    amalapuram  16.5833   82.0167      "
      ],
      "text/html": "<div>\n<style scoped>\n    .dataframe tbody tr th:only-of-type {\n        vertical-align: middle;\n    }\n\n    .dataframe tbody tr th {\n        vertical-align: top;\n    }\n\n    .dataframe thead th {\n        text-align: right;\n    }\n</style>\n<table border=\"1\" class=\"dataframe\">\n  <thead>\n    <tr style=\"text-align: right;\">\n      <th></th>\n      <th>City</th>\n      <th>Lat</th>\n      <th>Lon</th>\n      <th>Hotel</th>\n    </tr>\n  </thead>\n  <tbody>\n    <tr>\n      <th>23</th>\n      <td>port hedland</td>\n      <td>-20.3167</td>\n      <td>118.5667</td>\n      <td></td>\n    </tr>\n    <tr>\n      <th>73</th>\n      <td>aragarcas</td>\n      <td>-15.8975</td>\n      <td>-52.2508</td>\n      <td></td>\n    </tr>\n    <tr>\n      <th>128</th>\n      <td>beroroha</td>\n      <td>-21.6667</td>\n      <td>45.1667</td>\n      <td></td>\n    </tr>\n    <tr>\n      <th>189</th>\n      <td>hervey bay</td>\n      <td>-25.2986</td>\n      <td>152.8535</td>\n      <td></td>\n    </tr>\n    <tr>\n      <th>349</th>\n      <td>dalbandin</td>\n      <td>28.8947</td>\n      <td>64.4101</td>\n      <td></td>\n    </tr>\n    <tr>\n      <th>354</th>\n      <td>maceio</td>\n      <td>-9.6658</td>\n      <td>-35.7353</td>\n      <td></td>\n    </tr>\n    <tr>\n      <th>370</th>\n      <td>oussouye</td>\n      <td>12.4850</td>\n      <td>-16.5469</td>\n      <td></td>\n    </tr>\n    <tr>\n      <th>408</th>\n      <td>sainte-rose</td>\n      <td>16.3324</td>\n      <td>-61.6979</td>\n      <td></td>\n    </tr>\n    <tr>\n      <th>436</th>\n      <td>riyadh</td>\n      <td>24.6877</td>\n      <td>46.7219</td>\n      <td></td>\n    </tr>\n    <tr>\n      <th>480</th>\n      <td>amalapuram</td>\n      <td>16.5833</td>\n      <td>82.0167</td>\n      <td></td>\n    </tr>\n  </tbody>\n</table>\n</div>"
     },
     "metadata": {},
     "execution_count": 26
    }
   ],
   "source": [
    "# set up additional columns to hold information\n",
    "hotel_df = perfect_weather_df.loc[:,[\"City\", \"Lat\", \"Lon\"]]\n",
    "hotel_df['Hotel'] = \"\"\n",
    "hotel_df"
   ]
  },
  {
   "cell_type": "code",
   "execution_count": 27,
   "metadata": {},
   "outputs": [
    {
     "output_type": "stream",
     "name": "stdout",
     "text": [
      "Missing field/result... skipping.\n"
     ]
    }
   ],
   "source": [
    "# params dictionary to update each iteration\n",
    "params = {\n",
    "    \"radius\": 5000,\n",
    "    \"types\": \"hotel\",\n",
    "    \"keyword\": \"hotel\",\n",
    "    \"key\": g_key\n",
    "}\n",
    "\n",
    "# Use the lat/lng we recovered to identify airports\n",
    "for index, row in hotel_df.iterrows():\n",
    "    # get lat, lng from df\n",
    "    lat = row[\"Lat\"]\n",
    "    lon = row[\"Lon\"]\n",
    "\n",
    "    # change location each iteration while leaving original params in place\n",
    "    params[\"location\"] = f\"{lat},{lon}\"\n",
    "\n",
    "    # Use the search term: \"International Airport\" and our lat/lng\n",
    "    base_url = \"https://maps.googleapis.com/maps/api/place/nearbysearch/json\"\n",
    "\n",
    "    # make request and print url\n",
    "    name_address = requests.get(base_url, params=params)\n",
    "    \n",
    "#     print the name_address url, avoid doing for public github repos in order to avoid exposing key\n",
    "#     print(name_address.url)\n",
    "\n",
    "    # convert to json\n",
    "    name_address = name_address.json()\n",
    "    # print(json.dumps(name_address, indent=4, sort_keys=True))\n",
    "\n",
    "    # Since some data may be missing we incorporate a try-except to skip any that are missing a data point.\n",
    "    try:\n",
    "        hotel_df.loc[index, \"Hotel\"] = name_address[\"results\"][0][\"name\"]\n",
    "    except (KeyError, IndexError):\n",
    "        print(\"Missing field/result... skipping.\")"
   ]
  },
  {
   "cell_type": "code",
   "execution_count": 28,
   "metadata": {},
   "outputs": [
    {
     "output_type": "execute_result",
     "data": {
      "text/plain": [
       "             City      Lat       Lon  \\\n",
       "23   port hedland -20.3167  118.5667   \n",
       "73      aragarcas -15.8975  -52.2508   \n",
       "128      beroroha -21.6667   45.1667   \n",
       "189    hervey bay -25.2986  152.8535   \n",
       "349     dalbandin  28.8947   64.4101   \n",
       "354        maceio  -9.6658  -35.7353   \n",
       "370      oussouye  12.4850  -16.5469   \n",
       "408   sainte-rose  16.3324  -61.6979   \n",
       "436        riyadh  24.6877   46.7219   \n",
       "480    amalapuram  16.5833   82.0167   \n",
       "\n",
       "                                                 Hotel  \n",
       "23                                 The Esplanade Hotel  \n",
       "73                                      Odara Araguaia  \n",
       "128                                                     \n",
       "189                     Oaks Hervey Bay Resort and Spa  \n",
       "349                       Al-Dawood Hotel & Restaurant  \n",
       "354                                    Meridiano Hotel  \n",
       "370                                   Campement ALULUM  \n",
       "408  villa bagatelle Location saisonnière avec pisc...  \n",
       "436                         Hyatt Regency Riyadh Olaya  \n",
       "480                                       ROYAL PALACE  "
      ],
      "text/html": "<div>\n<style scoped>\n    .dataframe tbody tr th:only-of-type {\n        vertical-align: middle;\n    }\n\n    .dataframe tbody tr th {\n        vertical-align: top;\n    }\n\n    .dataframe thead th {\n        text-align: right;\n    }\n</style>\n<table border=\"1\" class=\"dataframe\">\n  <thead>\n    <tr style=\"text-align: right;\">\n      <th></th>\n      <th>City</th>\n      <th>Lat</th>\n      <th>Lon</th>\n      <th>Hotel</th>\n    </tr>\n  </thead>\n  <tbody>\n    <tr>\n      <th>23</th>\n      <td>port hedland</td>\n      <td>-20.3167</td>\n      <td>118.5667</td>\n      <td>The Esplanade Hotel</td>\n    </tr>\n    <tr>\n      <th>73</th>\n      <td>aragarcas</td>\n      <td>-15.8975</td>\n      <td>-52.2508</td>\n      <td>Odara Araguaia</td>\n    </tr>\n    <tr>\n      <th>128</th>\n      <td>beroroha</td>\n      <td>-21.6667</td>\n      <td>45.1667</td>\n      <td></td>\n    </tr>\n    <tr>\n      <th>189</th>\n      <td>hervey bay</td>\n      <td>-25.2986</td>\n      <td>152.8535</td>\n      <td>Oaks Hervey Bay Resort and Spa</td>\n    </tr>\n    <tr>\n      <th>349</th>\n      <td>dalbandin</td>\n      <td>28.8947</td>\n      <td>64.4101</td>\n      <td>Al-Dawood Hotel &amp; Restaurant</td>\n    </tr>\n    <tr>\n      <th>354</th>\n      <td>maceio</td>\n      <td>-9.6658</td>\n      <td>-35.7353</td>\n      <td>Meridiano Hotel</td>\n    </tr>\n    <tr>\n      <th>370</th>\n      <td>oussouye</td>\n      <td>12.4850</td>\n      <td>-16.5469</td>\n      <td>Campement ALULUM</td>\n    </tr>\n    <tr>\n      <th>408</th>\n      <td>sainte-rose</td>\n      <td>16.3324</td>\n      <td>-61.6979</td>\n      <td>villa bagatelle Location saisonnière avec pisc...</td>\n    </tr>\n    <tr>\n      <th>436</th>\n      <td>riyadh</td>\n      <td>24.6877</td>\n      <td>46.7219</td>\n      <td>Hyatt Regency Riyadh Olaya</td>\n    </tr>\n    <tr>\n      <th>480</th>\n      <td>amalapuram</td>\n      <td>16.5833</td>\n      <td>82.0167</td>\n      <td>ROYAL PALACE</td>\n    </tr>\n  </tbody>\n</table>\n</div>"
     },
     "metadata": {},
     "execution_count": 28
    }
   ],
   "source": [
    "hotel_df"
   ]
  },
  {
   "cell_type": "code",
   "execution_count": 31,
   "metadata": {},
   "outputs": [],
   "source": [
    "# NOTE: Do not change any of the code in this cell\n",
    "\n",
    "# Using the template add the hotel marks to the heatmap\n",
    "info_box_template = \"\"\"\n",
    "<dt>City</dt><dd>{City}</dd>\n",
    "<dt>Country</dt><dd>{Country}</dd>\n",
    "<dl>\n",
    "<dt>Name</dt><dd>{Hotel}</dd>\n",
    "\n",
    "</dl>\n",
    "\"\"\"\n",
    "# Store the DataFrame Row\n",
    "# NOTE: be sure to update with your DataFrame name\n",
    "hotel_info = [info_box_template.format(**row) for index, row in hotel_df.iterrows()]\n",
    "locations = hotel_df[[\"Lat\", \"Lon\"]]"
   ]
  },
  {
   "cell_type": "code",
   "execution_count": 32,
   "metadata": {},
   "outputs": [
    {
     "output_type": "display_data",
     "data": {
      "text/plain": "Figure(layout=FigureLayout(border='1px solid black', height='600px', margin='0 auto 0 auto', padding='1px', wi…",
      "application/vnd.jupyter.widget-view+json": {
       "version_major": 2,
       "version_minor": 0,
       "model_id": "ed7e9abc88f2436bb244d05f4fc4b467"
      }
     },
     "metadata": {}
    }
   ],
   "source": [
    "# Add marker layer ontop of heat map\n",
    "\n",
    "figure_layout = {\n",
    "    'width': '900px',\n",
    "    'height': '600px',\n",
    "    'border': '1px solid black',\n",
    "    'padding': '1px',\n",
    "    'margin': '0 auto 0 auto'\n",
    "}\n",
    "fig = gmaps.figure(layout=figure_layout,zoom_level=2,center=(15,25))\n",
    "\n",
    "# Create hotel symbol layer\n",
    "hotel_layer = gmaps.marker_layer(\n",
    "    locations,info_box_content=[info_box_template.format(**row) for index, row in hotel_df.iterrows()]\n",
    ")\n",
    "\n",
    "\n",
    "# Add layer\n",
    "fig.add_layer(heat_layer)\n",
    "fig.add_layer(hotel_layer)\n",
    "# Display figure\n",
    "fig\n"
   ]
  },
  {
   "cell_type": "code",
   "execution_count": null,
   "metadata": {},
   "outputs": [],
   "source": []
  }
 ],
 "metadata": {
  "kernelspec": {
   "name": "python3",
   "display_name": "Python 3.8.5 64-bit ('base': conda)",
   "metadata": {
    "interpreter": {
     "hash": "db9e521301de1982cbfc3dc95423fba6132bdd7922afdbf03516b684579cfb6e"
    }
   }
  },
  "language_info": {
   "codemirror_mode": {
    "name": "ipython",
    "version": 3
   },
   "file_extension": ".py",
   "mimetype": "text/x-python",
   "name": "python",
   "nbconvert_exporter": "python",
   "pygments_lexer": "ipython3",
   "version": "3.8.5"
  },
  "latex_envs": {
   "LaTeX_envs_menu_present": true,
   "autoclose": false,
   "autocomplete": true,
   "bibliofile": "biblio.bib",
   "cite_by": "apalike",
   "current_citInitial": 1,
   "eqLabelWithNumbers": true,
   "eqNumInitial": 1,
   "hotkeys": {
    "equation": "Ctrl-E",
    "itemize": "Ctrl-I"
   },
   "labels_anchors": false,
   "latex_user_defs": false,
   "report_style_numbering": false,
   "user_envs_cfg": false
  }
 },
 "nbformat": 4,
 "nbformat_minor": 4
}