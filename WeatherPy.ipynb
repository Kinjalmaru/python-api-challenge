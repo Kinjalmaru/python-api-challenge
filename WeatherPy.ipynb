{
 "cells": [
  {
   "cell_type": "markdown",
   "metadata": {},
   "source": [
    "# WeatherPy\n",
    "----\n",
    "\n",
    "#### Note\n",
    "* Instructions have been included for each segment. You do not have to follow them exactly, but they are included to help you think through the steps."
   ]
  },
  {
   "cell_type": "code",
   "execution_count": 1,
   "metadata": {},
   "outputs": [
    {
     "name": "stdout",
     "output_type": "stream",
     "text": [
      "Requirement already satisfied: citipy in /Users/kinjalmaru/opt/anaconda3/lib/python3.8/site-packages (0.0.5)\n",
      "Requirement already satisfied: kdtree>=0.12 in /Users/kinjalmaru/opt/anaconda3/lib/python3.8/site-packages (from citipy) (0.16)\n",
      "Note: you may need to restart the kernel to use updated packages.\n"
     ]
    }
   ],
   "source": [
    "# pip install citipy"
   ]
  },
  {
   "cell_type": "code",
   "execution_count": 92,
   "metadata": {
    "scrolled": true
   },
   "outputs": [],
   "source": [
    "# Dependencies and Setup\n",
    "import matplotlib.pyplot as plt\n",
    "import pandas as pd\n",
    "import numpy as np\n",
    "import requests\n",
    "import time\n",
    "import scipy.stats as st\n",
    "from scipy.stats import linregress\n",
    "\n",
    "# Import API key\n",
    "from api_keys import weather_api_key\n",
    "\n",
    "# Incorporated citipy to determine city based on latitude and longitude\n",
    "from citipy import citipy\n",
    "\n",
    "# Output File (CSV)\n",
    "output_data_file = \"output_data/cities.csv\"\n",
    "\n",
    "# Range of latitudes and longitudes\n",
    "lat_range = (-90, 90)\n",
    "lng_range = (-180, 180)"
   ]
  },
  {
   "cell_type": "markdown",
   "metadata": {},
   "source": [
    "## Generate Cities List"
   ]
  },
  {
   "cell_type": "code",
   "execution_count": 93,
   "metadata": {},
   "outputs": [
    {
     "data": {
      "text/plain": [
       "628"
      ]
     },
     "execution_count": 93,
     "metadata": {},
     "output_type": "execute_result"
    }
   ],
   "source": [
    "# List for holding lat_lngs and cities\n",
    "lat_lngs = []\n",
    "cities = []\n",
    "\n",
    "# Create a set of random lat and lng combinations\n",
    "lats = np.random.uniform(lat_range[0], lat_range[1], size=1500)\n",
    "lngs = np.random.uniform(lng_range[0], lng_range[1], size=1500)\n",
    "lat_lngs = zip(lats, lngs)\n",
    "\n",
    "# Identify nearest city for each lat, lng combination\n",
    "for lat_lng in lat_lngs:\n",
    "    city = citipy.nearest_city(lat_lng[0], lat_lng[1]).city_name\n",
    "    \n",
    "    # If the city is unique, then add it to a our cities list\n",
    "    if city not in cities:\n",
    "        cities.append(city)\n",
    "\n",
    "# Print the city count to confirm sufficient count\n",
    "len(cities)"
   ]
  },
  {
   "cell_type": "markdown",
   "metadata": {},
   "source": [
    "### Perform API Calls\n",
    "* Perform a weather check on each city using a series of successive API calls.\n",
    "* Include a print log of each city as it'sbeing processed (with the city number and city name).\n"
   ]
  },
  {
   "cell_type": "code",
   "execution_count": 104,
   "metadata": {},
   "outputs": [
    {
     "name": "stdout",
     "output_type": "stream",
     "text": [
      "Beginning Data Retrieval\n",
      "---------------------------\n",
      "Processing Record 1 of Set 1 | castro\n",
      "Processing Record 2 of Set 1 | port elizabeth\n",
      "Processing Record 3 of Set 1 | mataura\n",
      "Processing Record 4 of Set 1 | hithadhoo\n",
      "Processing Record 5 of Set 1 | ebano\n",
      "ebano not found. Skipping...\n",
      "Processing Record 6 of Set 1 | mahebourg\n",
      "Processing Record 7 of Set 1 | havre-saint-pierre\n",
      "Processing Record 8 of Set 1 | lompoc\n",
      "Processing Record 9 of Set 1 | camacha\n",
      "Processing Record 10 of Set 1 | norman wells\n",
      "Processing Record 11 of Set 1 | attawapiskat\n",
      "attawapiskat not found. Skipping...\n",
      "Processing Record 12 of Set 1 | katsuura\n",
      "Processing Record 13 of Set 1 | saldanha\n",
      "Processing Record 14 of Set 1 | hermanus\n",
      "Processing Record 15 of Set 1 | northam\n",
      "Processing Record 16 of Set 1 | sitka\n",
      "Processing Record 17 of Set 1 | tra vinh\n",
      "Processing Record 18 of Set 1 | illoqqortoormiut\n",
      "illoqqortoormiut not found. Skipping...\n",
      "Processing Record 19 of Set 1 | salamiyah\n",
      "Processing Record 20 of Set 1 | hovd\n",
      "Processing Record 21 of Set 1 | taolanaro\n",
      "taolanaro not found. Skipping...\n",
      "Processing Record 22 of Set 1 | samusu\n",
      "samusu not found. Skipping...\n",
      "Processing Record 23 of Set 1 | pocone\n",
      "Processing Record 24 of Set 1 | namtsy\n",
      "Processing Record 25 of Set 1 | puerto ayora\n",
      "Processing Record 26 of Set 1 | ushuaia\n",
      "Processing Record 27 of Set 1 | bethanien\n",
      "Processing Record 28 of Set 1 | waipawa\n",
      "Processing Record 29 of Set 1 | punta arenas\n",
      "Processing Record 30 of Set 1 | albany\n",
      "Processing Record 31 of Set 1 | atuona\n",
      "Processing Record 32 of Set 1 | busselton\n",
      "Processing Record 33 of Set 1 | bhuj\n",
      "Processing Record 34 of Set 1 | constitucion\n",
      "Processing Record 35 of Set 1 | khatanga\n",
      "Processing Record 36 of Set 1 | new norfolk\n",
      "Processing Record 37 of Set 1 | vaini\n",
      "Processing Record 38 of Set 1 | hilo\n",
      "Processing Record 39 of Set 1 | kodiak\n",
      "Processing Record 40 of Set 1 | ponta do sol\n",
      "Processing Record 41 of Set 1 | carnarvon\n",
      "Processing Record 42 of Set 1 | hamilton\n",
      "Processing Record 43 of Set 1 | avarua\n",
      "Processing Record 44 of Set 1 | bethel\n",
      "Processing Record 45 of Set 1 | lebu\n",
      "Processing Record 46 of Set 1 | bilma\n",
      "Processing Record 47 of Set 1 | rawannawi\n",
      "rawannawi not found. Skipping...\n",
      "Processing Record 48 of Set 1 | belushya guba\n",
      "belushya guba not found. Skipping...\n",
      "Processing Record 49 of Set 1 | hambantota\n",
      "Processing Record 50 of Set 1 | guerrero negro\n",
      "Processing Record 1 of Set 2 | tongchuan\n",
      "Processing Record 2 of Set 2 | muros\n",
      "Processing Record 3 of Set 2 | krasnoselkup\n",
      "Processing Record 4 of Set 2 | thompson\n",
      "Processing Record 5 of Set 2 | la ronge\n",
      "Processing Record 6 of Set 2 | nome\n",
      "Processing Record 7 of Set 2 | guayaramerin\n",
      "Processing Record 8 of Set 2 | coquimbo\n",
      "Processing Record 9 of Set 2 | bredasdorp\n",
      "Processing Record 10 of Set 2 | butaritari\n",
      "Processing Record 11 of Set 2 | hobyo\n",
      "Processing Record 12 of Set 2 | wahran\n",
      "wahran not found. Skipping...\n",
      "Processing Record 13 of Set 2 | bambous virieux\n",
      "Processing Record 14 of Set 2 | sinnamary\n",
      "Processing Record 15 of Set 2 | cherskiy\n",
      "Processing Record 16 of Set 2 | rancharia\n",
      "Processing Record 17 of Set 2 | longyearbyen\n",
      "Processing Record 18 of Set 2 | yellowknife\n",
      "Processing Record 19 of Set 2 | san cristobal\n",
      "Processing Record 20 of Set 2 | airai\n",
      "Processing Record 21 of Set 2 | kaeo\n",
      "Processing Record 22 of Set 2 | tabialan\n",
      "tabialan not found. Skipping...\n",
      "Processing Record 23 of Set 2 | qaanaaq\n",
      "Processing Record 24 of Set 2 | wuwei\n",
      "Processing Record 25 of Set 2 | kalemie\n",
      "Processing Record 26 of Set 2 | pevek\n",
      "Processing Record 27 of Set 2 | mys shmidta\n",
      "mys shmidta not found. Skipping...\n",
      "Processing Record 28 of Set 2 | victoria\n",
      "Processing Record 29 of Set 2 | luang prabang\n",
      "Processing Record 30 of Set 2 | jamestown\n",
      "Processing Record 31 of Set 2 | ribeira grande\n",
      "Processing Record 32 of Set 2 | kattivakkam\n",
      "Processing Record 33 of Set 2 | hunza\n",
      "hunza not found. Skipping...\n",
      "Processing Record 34 of Set 2 | smidovich\n",
      "Processing Record 35 of Set 2 | severo-kurilsk\n",
      "Processing Record 36 of Set 2 | cape town\n",
      "Processing Record 37 of Set 2 | bluff\n",
      "Processing Record 38 of Set 2 | malakal\n",
      "Processing Record 39 of Set 2 | athabasca\n",
      "Processing Record 40 of Set 2 | emerald\n",
      "Processing Record 41 of Set 2 | hellvik\n",
      "Processing Record 42 of Set 2 | abu samrah\n",
      "Processing Record 43 of Set 2 | tortoli\n",
      "Processing Record 44 of Set 2 | comodoro rivadavia\n",
      "Processing Record 45 of Set 2 | portland\n",
      "Processing Record 46 of Set 2 | tasiilaq\n",
      "Processing Record 47 of Set 2 | gulshat\n",
      "gulshat not found. Skipping...\n",
      "Processing Record 48 of Set 2 | koltubanovskiy\n",
      "Processing Record 49 of Set 2 | clyde river\n",
      "Processing Record 50 of Set 2 | rikitea\n",
      "Processing Record 1 of Set 3 | fort nelson\n",
      "Processing Record 2 of Set 3 | wadi musa\n",
      "Processing Record 3 of Set 3 | xinpu\n",
      "Processing Record 4 of Set 3 | nikolskoye\n",
      "Processing Record 5 of Set 3 | myitkyina\n",
      "Processing Record 6 of Set 3 | hvammstangi\n",
      "hvammstangi not found. Skipping...\n",
      "Processing Record 7 of Set 3 | fukue\n",
      "Processing Record 8 of Set 3 | port lincoln\n",
      "Processing Record 9 of Set 3 | tsihombe\n",
      "tsihombe not found. Skipping...\n",
      "Processing Record 10 of Set 3 | brae\n",
      "Processing Record 11 of Set 3 | amderma\n",
      "amderma not found. Skipping...\n",
      "Processing Record 12 of Set 3 | sorland\n",
      "Processing Record 13 of Set 3 | lodja\n",
      "Processing Record 14 of Set 3 | loknya\n",
      "Processing Record 15 of Set 3 | narsaq\n",
      "Processing Record 16 of Set 3 | venezuela\n",
      "Processing Record 17 of Set 3 | sao jose da coroa grande\n",
      "Processing Record 18 of Set 3 | eskasem\n",
      "eskasem not found. Skipping...\n",
      "Processing Record 19 of Set 3 | kahului\n",
      "Processing Record 20 of Set 3 | kavaratti\n",
      "Processing Record 21 of Set 3 | kirakira\n",
      "Processing Record 22 of Set 3 | ilulissat\n",
      "Processing Record 23 of Set 3 | talah\n",
      "talah not found. Skipping...\n",
      "Processing Record 24 of Set 3 | bur gabo\n",
      "bur gabo not found. Skipping...\n",
      "Processing Record 25 of Set 3 | tartus\n",
      "Processing Record 26 of Set 3 | mananara\n",
      "Processing Record 27 of Set 3 | acapulco\n",
      "Processing Record 28 of Set 3 | cayeli\n",
      "Processing Record 29 of Set 3 | broome\n",
      "Processing Record 30 of Set 3 | tuktoyaktuk\n",
      "Processing Record 31 of Set 3 | coihaique\n",
      "Processing Record 32 of Set 3 | mar del plata\n",
      "Processing Record 33 of Set 3 | sentyabrskiy\n",
      "sentyabrskiy not found. Skipping...\n",
      "Processing Record 34 of Set 3 | bengkulu\n",
      "Processing Record 35 of Set 3 | inirida\n",
      "Processing Record 36 of Set 3 | lorengau\n",
      "Processing Record 37 of Set 3 | manzanillo\n",
      "Processing Record 38 of Set 3 | kapaa\n",
      "Processing Record 39 of Set 3 | burica\n",
      "burica not found. Skipping...\n",
      "Processing Record 40 of Set 3 | tirumullaivasal\n",
      "Processing Record 41 of Set 3 | chuy\n",
      "Processing Record 42 of Set 3 | east london\n",
      "Processing Record 43 of Set 3 | kampong thum\n",
      "Processing Record 44 of Set 3 | kieta\n",
      "Processing Record 45 of Set 3 | marzuq\n",
      "Processing Record 46 of Set 3 | saskylakh\n",
      "Processing Record 47 of Set 3 | segezha\n",
      "Processing Record 48 of Set 3 | dauriya\n",
      "Processing Record 49 of Set 3 | plonsk\n",
      "Processing Record 50 of Set 3 | kruisfontein\n",
      "Processing Record 1 of Set 4 | villars-sur-glane\n",
      "Processing Record 2 of Set 4 | yuzhno-yeniseyskiy\n",
      "yuzhno-yeniseyskiy not found. Skipping...\n",
      "Processing Record 3 of Set 4 | awjilah\n",
      "Processing Record 4 of Set 4 | torbay\n",
      "Processing Record 5 of Set 4 | amapa\n",
      "Processing Record 6 of Set 4 | port alfred\n",
      "Processing Record 7 of Set 4 | neryungri\n",
      "Processing Record 8 of Set 4 | kurdzhinovo\n",
      "Processing Record 9 of Set 4 | rafaela\n",
      "Processing Record 10 of Set 4 | dubbo\n",
      "Processing Record 11 of Set 4 | imbituba\n",
      "Processing Record 12 of Set 4 | tuatapere\n",
      "Processing Record 13 of Set 4 | zhuhai\n",
      "Processing Record 14 of Set 4 | mapiri\n",
      "Processing Record 15 of Set 4 | hillsborough\n",
      "Processing Record 16 of Set 4 | saint-philippe\n",
      "Processing Record 17 of Set 4 | oum hadjer\n",
      "Processing Record 18 of Set 4 | barentsburg\n",
      "barentsburg not found. Skipping...\n",
      "Processing Record 19 of Set 4 | dobrinka\n",
      "Processing Record 20 of Set 4 | hualmay\n",
      "Processing Record 21 of Set 4 | salalah\n",
      "Processing Record 22 of Set 4 | conceicao do mato dentro\n",
      "Processing Record 23 of Set 4 | zdolbuniv\n",
      "Processing Record 24 of Set 4 | cabo san lucas\n",
      "Processing Record 25 of Set 4 | ulaangom\n",
      "Processing Record 26 of Set 4 | esperance\n",
      "Processing Record 27 of Set 4 | hailar\n",
      "Processing Record 28 of Set 4 | talnakh\n",
      "Processing Record 29 of Set 4 | vostok\n",
      "Processing Record 30 of Set 4 | cayenne\n",
      "Processing Record 31 of Set 4 | paranaiba\n"
     ]
    },
    {
     "name": "stdout",
     "output_type": "stream",
     "text": [
      "Processing Record 32 of Set 4 | san policarpo\n",
      "Processing Record 33 of Set 4 | dudinka\n",
      "Processing Record 34 of Set 4 | griffith\n",
      "Processing Record 35 of Set 4 | dikson\n",
      "Processing Record 36 of Set 4 | santa eulalia del rio\n",
      "santa eulalia del rio not found. Skipping...\n",
      "Processing Record 37 of Set 4 | klaksvik\n",
      "Processing Record 38 of Set 4 | paamiut\n",
      "Processing Record 39 of Set 4 | yazd\n",
      "Processing Record 40 of Set 4 | saint george\n",
      "Processing Record 41 of Set 4 | aksarka\n",
      "Processing Record 42 of Set 4 | kaitangata\n",
      "Processing Record 43 of Set 4 | nouadhibou\n",
      "Processing Record 44 of Set 4 | vila velha\n",
      "Processing Record 45 of Set 4 | port moresby\n",
      "Processing Record 46 of Set 4 | richards bay\n",
      "Processing Record 47 of Set 4 | manta\n",
      "Processing Record 48 of Set 4 | barrow\n",
      "Processing Record 49 of Set 4 | upernavik\n",
      "Processing Record 50 of Set 4 | verkhnevilyuysk\n",
      "Processing Record 1 of Set 5 | alexandria\n",
      "Processing Record 2 of Set 5 | mareeba\n",
      "Processing Record 3 of Set 5 | iqaluit\n",
      "Processing Record 4 of Set 5 | lumeje\n",
      "Processing Record 5 of Set 5 | jeremie\n",
      "Processing Record 6 of Set 5 | vaitape\n",
      "Processing Record 7 of Set 5 | hobart\n",
      "Processing Record 8 of Set 5 | souillac\n",
      "Processing Record 9 of Set 5 | dahod\n",
      "Processing Record 10 of Set 5 | nguiu\n",
      "nguiu not found. Skipping...\n",
      "Processing Record 11 of Set 5 | tobermory\n",
      "Processing Record 12 of Set 5 | nicoya\n",
      "Processing Record 13 of Set 5 | kabare\n",
      "Processing Record 14 of Set 5 | faya\n",
      "Processing Record 15 of Set 5 | kutum\n",
      "Processing Record 16 of Set 5 | charters towers\n",
      "Processing Record 17 of Set 5 | santa cruz de tenerife\n",
      "Processing Record 18 of Set 5 | mishan\n",
      "Processing Record 19 of Set 5 | sao filipe\n",
      "Processing Record 20 of Set 5 | darhan\n",
      "Processing Record 21 of Set 5 | harrison\n",
      "Processing Record 22 of Set 5 | pangnirtung\n",
      "Processing Record 23 of Set 5 | shirokiy\n",
      "Processing Record 24 of Set 5 | solon\n",
      "Processing Record 25 of Set 5 | hailey\n",
      "Processing Record 26 of Set 5 | tifton\n",
      "Processing Record 27 of Set 5 | parabel\n",
      "Processing Record 28 of Set 5 | alcamo\n",
      "Processing Record 29 of Set 5 | rodrigues alves\n",
      "Processing Record 30 of Set 5 | umzimvubu\n",
      "umzimvubu not found. Skipping...\n",
      "Processing Record 31 of Set 5 | boende\n",
      "Processing Record 32 of Set 5 | lasa\n",
      "Processing Record 33 of Set 5 | san patricio\n",
      "Processing Record 34 of Set 5 | grand river south east\n",
      "grand river south east not found. Skipping...\n",
      "Processing Record 35 of Set 5 | hami\n",
      "Processing Record 36 of Set 5 | riberalta\n",
      "Processing Record 37 of Set 5 | diu\n",
      "Processing Record 38 of Set 5 | dujuma\n",
      "dujuma not found. Skipping...\n",
      "Processing Record 39 of Set 5 | vaasa\n",
      "Processing Record 40 of Set 5 | san carlos\n",
      "Processing Record 41 of Set 5 | olinda\n",
      "Processing Record 42 of Set 5 | lorain\n",
      "Processing Record 43 of Set 5 | banda aceh\n",
      "Processing Record 44 of Set 5 | lalsot\n",
      "Processing Record 45 of Set 5 | balikpapan\n",
      "Processing Record 46 of Set 5 | vieux-habitants\n",
      "Processing Record 47 of Set 5 | ostersund\n",
      "Processing Record 48 of Set 5 | cassilandia\n",
      "Processing Record 49 of Set 5 | punta alta\n",
      "Processing Record 50 of Set 5 | la macarena\n",
      "Processing Record 1 of Set 6 | magadan\n",
      "Processing Record 2 of Set 6 | ballina\n",
      "Processing Record 3 of Set 6 | lata\n",
      "Processing Record 4 of Set 6 | nabire\n",
      "Processing Record 5 of Set 6 | marcona\n",
      "marcona not found. Skipping...\n",
      "Processing Record 6 of Set 6 | saryshagan\n",
      "saryshagan not found. Skipping...\n",
      "Processing Record 7 of Set 6 | puerto ayacucho\n",
      "Processing Record 8 of Set 6 | sharlyk\n",
      "Processing Record 9 of Set 6 | osorno\n",
      "Processing Record 10 of Set 6 | cabaiguan\n",
      "Processing Record 11 of Set 6 | corinto\n",
      "Processing Record 12 of Set 6 | sao gabriel da cachoeira\n",
      "Processing Record 13 of Set 6 | sydney\n",
      "Processing Record 14 of Set 6 | jadu\n",
      "Processing Record 15 of Set 6 | fuyang\n",
      "Processing Record 16 of Set 6 | faanui\n",
      "Processing Record 17 of Set 6 | ruatoria\n",
      "ruatoria not found. Skipping...\n",
      "Processing Record 18 of Set 6 | touros\n",
      "Processing Record 19 of Set 6 | santa\n",
      "Processing Record 20 of Set 6 | louisbourg\n",
      "louisbourg not found. Skipping...\n",
      "Processing Record 21 of Set 6 | bolungarvik\n",
      "bolungarvik not found. Skipping...\n",
      "Processing Record 22 of Set 6 | llanes\n",
      "Processing Record 23 of Set 6 | bajo baudo\n",
      "bajo baudo not found. Skipping...\n",
      "Processing Record 24 of Set 6 | kracheh\n",
      "kracheh not found. Skipping...\n",
      "Processing Record 25 of Set 6 | san martin\n",
      "Processing Record 26 of Set 6 | tabas\n",
      "Processing Record 27 of Set 6 | scarborough\n",
      "Processing Record 28 of Set 6 | blackwater\n",
      "Processing Record 29 of Set 6 | calvinia\n",
      "Processing Record 30 of Set 6 | pimenta bueno\n",
      "Processing Record 31 of Set 6 | erie\n",
      "Processing Record 32 of Set 6 | ouallam\n",
      "Processing Record 33 of Set 6 | cidreira\n",
      "Processing Record 34 of Set 6 | olafsvik\n",
      "Processing Record 35 of Set 6 | vaitupu\n",
      "vaitupu not found. Skipping...\n",
      "Processing Record 36 of Set 6 | codrington\n",
      "Processing Record 37 of Set 6 | minna\n",
      "Processing Record 38 of Set 6 | dukat\n",
      "Processing Record 39 of Set 6 | kavieng\n",
      "Processing Record 40 of Set 6 | huancabamba\n",
      "Processing Record 41 of Set 6 | the pas\n",
      "Processing Record 42 of Set 6 | haines junction\n",
      "Processing Record 43 of Set 6 | cururupu\n",
      "Processing Record 44 of Set 6 | karlskrona\n",
      "Processing Record 45 of Set 6 | ngukurr\n",
      "ngukurr not found. Skipping...\n",
      "Processing Record 46 of Set 6 | bonthe\n",
      "Processing Record 47 of Set 6 | arraial do cabo\n",
      "Processing Record 48 of Set 6 | port-cartier\n",
      "Processing Record 49 of Set 6 | governador valadares\n",
      "Processing Record 50 of Set 6 | kuche\n",
      "kuche not found. Skipping...\n",
      "Processing Record 1 of Set 7 | druzhba\n",
      "Processing Record 2 of Set 7 | papara\n",
      "Processing Record 3 of Set 7 | praya\n",
      "Processing Record 4 of Set 7 | sibolga\n",
      "Processing Record 5 of Set 7 | santa maria\n",
      "Processing Record 6 of Set 7 | san juan\n",
      "Processing Record 7 of Set 7 | karasjok\n",
      "Processing Record 8 of Set 7 | najran\n",
      "Processing Record 9 of Set 7 | kainan\n",
      "Processing Record 10 of Set 7 | buchanan\n",
      "Processing Record 11 of Set 7 | sur\n",
      "Processing Record 12 of Set 7 | bosaso\n",
      "Processing Record 13 of Set 7 | pisco\n",
      "Processing Record 14 of Set 7 | kysyl-syr\n",
      "Processing Record 15 of Set 7 | beringovskiy\n",
      "Processing Record 16 of Set 7 | nizhneyansk\n",
      "nizhneyansk not found. Skipping...\n",
      "Processing Record 17 of Set 7 | nyurba\n",
      "Processing Record 18 of Set 7 | lantana\n",
      "Processing Record 19 of Set 7 | salinopolis\n",
      "Processing Record 20 of Set 7 | sao joao da barra\n",
      "Processing Record 21 of Set 7 | shenjiamen\n",
      "Processing Record 22 of Set 7 | la serena\n",
      "Processing Record 23 of Set 7 | nanortalik\n",
      "Processing Record 24 of Set 7 | tres arroyos\n",
      "Processing Record 25 of Set 7 | markova\n",
      "Processing Record 26 of Set 7 | lazaro cardenas\n",
      "Processing Record 27 of Set 7 | mikkeli\n",
      "Processing Record 28 of Set 7 | lipari\n",
      "Processing Record 29 of Set 7 | hay river\n",
      "Processing Record 30 of Set 7 | melito di porto salvo\n",
      "Processing Record 31 of Set 7 | henties bay\n",
      "Processing Record 32 of Set 7 | tiksi\n",
      "Processing Record 33 of Set 7 | puerto madryn\n",
      "Processing Record 34 of Set 7 | kiruna\n",
      "Processing Record 35 of Set 7 | satitoa\n",
      "satitoa not found. Skipping...\n",
      "Processing Record 36 of Set 7 | mokshan\n",
      "Processing Record 37 of Set 7 | goundam\n",
      "Processing Record 38 of Set 7 | palauig\n",
      "Processing Record 39 of Set 7 | suez\n",
      "Processing Record 40 of Set 7 | bay city\n",
      "Processing Record 41 of Set 7 | bandarbeyla\n",
      "Processing Record 42 of Set 7 | gariaband\n",
      "Processing Record 43 of Set 7 | primo tapia\n",
      "Processing Record 44 of Set 7 | atambua\n",
      "Processing Record 45 of Set 7 | havelock\n",
      "Processing Record 46 of Set 7 | fort pierce\n",
      "Processing Record 47 of Set 7 | shizunai\n",
      "Processing Record 48 of Set 7 | dunedin\n",
      "Processing Record 49 of Set 7 | phan rang\n",
      "phan rang not found. Skipping...\n",
      "Processing Record 50 of Set 7 | evensk\n",
      "Processing Record 1 of Set 8 | vila franca do campo\n",
      "Processing Record 2 of Set 8 | baie-comeau\n",
      "Processing Record 3 of Set 8 | biltine\n",
      "Processing Record 4 of Set 8 | phan thiet\n",
      "Processing Record 5 of Set 8 | kindu\n",
      "Processing Record 6 of Set 8 | mountain home\n",
      "Processing Record 7 of Set 8 | luderitz\n",
      "Processing Record 8 of Set 8 | palmer\n",
      "Processing Record 9 of Set 8 | isangel\n",
      "Processing Record 10 of Set 8 | japura\n",
      "Processing Record 11 of Set 8 | opuwo\n",
      "Processing Record 12 of Set 8 | porangatu\n",
      "Processing Record 13 of Set 8 | padang\n",
      "Processing Record 14 of Set 8 | oskemen\n",
      "Processing Record 15 of Set 8 | yulara\n",
      "Processing Record 16 of Set 8 | marsa matruh\n",
      "Processing Record 17 of Set 8 | aljezur\n"
     ]
    },
    {
     "name": "stdout",
     "output_type": "stream",
     "text": [
      "Processing Record 18 of Set 8 | suileng\n",
      "Processing Record 19 of Set 8 | margate\n",
      "Processing Record 20 of Set 8 | arys\n",
      "Processing Record 21 of Set 8 | geresk\n",
      "geresk not found. Skipping...\n",
      "Processing Record 22 of Set 8 | makakilo city\n",
      "Processing Record 23 of Set 8 | guadalupe y calvo\n",
      "Processing Record 24 of Set 8 | nortelandia\n",
      "Processing Record 25 of Set 8 | ust-tsilma\n",
      "Processing Record 26 of Set 8 | high level\n",
      "Processing Record 27 of Set 8 | chokurdakh\n",
      "Processing Record 28 of Set 8 | katangli\n",
      "Processing Record 29 of Set 8 | stolin\n",
      "Processing Record 30 of Set 8 | aykhal\n",
      "Processing Record 31 of Set 8 | orodara\n",
      "Processing Record 32 of Set 8 | aksum\n",
      "Processing Record 33 of Set 8 | oussouye\n",
      "Processing Record 34 of Set 8 | selfoss\n",
      "Processing Record 35 of Set 8 | sokoni\n",
      "Processing Record 36 of Set 8 | la primavera\n",
      "Processing Record 37 of Set 8 | mount gambier\n",
      "Processing Record 38 of Set 8 | husavik\n",
      "Processing Record 39 of Set 8 | ordynskoye\n",
      "Processing Record 40 of Set 8 | blythe\n",
      "Processing Record 41 of Set 8 | tshela\n",
      "Processing Record 42 of Set 8 | englewood\n",
      "Processing Record 43 of Set 8 | porto novo\n",
      "Processing Record 44 of Set 8 | goulburn\n",
      "Processing Record 45 of Set 8 | eresos\n",
      "Processing Record 46 of Set 8 | itarema\n",
      "Processing Record 47 of Set 8 | kyshtovka\n",
      "Processing Record 48 of Set 8 | craigieburn\n",
      "Processing Record 49 of Set 8 | edson\n",
      "Processing Record 50 of Set 8 | isilkul\n",
      "Processing Record 1 of Set 9 | zyryanka\n",
      "Processing Record 2 of Set 9 | petropavlovsk-kamchatskiy\n",
      "Processing Record 3 of Set 9 | rio grande\n",
      "Processing Record 4 of Set 9 | muyezerskiy\n",
      "Processing Record 5 of Set 9 | allapalli\n",
      "Processing Record 6 of Set 9 | eforie\n",
      "eforie not found. Skipping...\n",
      "Processing Record 7 of Set 9 | asau\n",
      "Processing Record 8 of Set 9 | nemuro\n",
      "Processing Record 9 of Set 9 | asfi\n",
      "Processing Record 10 of Set 9 | saleaula\n",
      "saleaula not found. Skipping...\n",
      "Processing Record 11 of Set 9 | avallon\n",
      "Processing Record 12 of Set 9 | hasaki\n",
      "Processing Record 13 of Set 9 | berdigestyakh\n",
      "Processing Record 14 of Set 9 | roma\n",
      "Processing Record 15 of Set 9 | lyskovo\n",
      "Processing Record 16 of Set 9 | mahina\n",
      "Processing Record 17 of Set 9 | milos\n",
      "Processing Record 18 of Set 9 | arlit\n",
      "Processing Record 19 of Set 9 | xuddur\n",
      "Processing Record 20 of Set 9 | abonnema\n",
      "Processing Record 21 of Set 9 | abrau-dyurso\n",
      "Processing Record 22 of Set 9 | tessalit\n",
      "Processing Record 23 of Set 9 | tukrah\n",
      "Processing Record 24 of Set 9 | saint-augustin\n",
      "Processing Record 25 of Set 9 | mandera\n",
      "Processing Record 26 of Set 9 | ostrovnoy\n",
      "Processing Record 27 of Set 9 | avera\n",
      "Processing Record 28 of Set 9 | rio gallegos\n",
      "Processing Record 29 of Set 9 | santa eulalia\n",
      "Processing Record 30 of Set 9 | leh\n",
      "Processing Record 31 of Set 9 | palabuhanratu\n",
      "palabuhanratu not found. Skipping...\n",
      "Processing Record 32 of Set 9 | port macquarie\n",
      "Processing Record 33 of Set 9 | fairbanks\n",
      "Processing Record 34 of Set 9 | presidencia roque saenz pena\n",
      "Processing Record 35 of Set 9 | esmeraldas\n",
      "Processing Record 36 of Set 9 | mutoko\n",
      "Processing Record 37 of Set 9 | ouahigouya\n",
      "Processing Record 38 of Set 9 | crestline\n",
      "Processing Record 39 of Set 9 | ayagoz\n",
      "Processing Record 40 of Set 9 | vavuniya\n",
      "Processing Record 41 of Set 9 | nuuk\n",
      "Processing Record 42 of Set 9 | adrar\n",
      "Processing Record 43 of Set 9 | custoias\n",
      "Processing Record 44 of Set 9 | fairhope\n",
      "Processing Record 45 of Set 9 | fushan\n",
      "Processing Record 46 of Set 9 | merauke\n",
      "Processing Record 47 of Set 9 | chifeng\n",
      "Processing Record 48 of Set 9 | ancud\n",
      "Processing Record 49 of Set 9 | grindavik\n",
      "Processing Record 50 of Set 9 | bolshaya dzhalga\n",
      "Processing Record 1 of Set 10 | dingle\n",
      "Processing Record 2 of Set 10 | san pedro de uraba\n",
      "Processing Record 3 of Set 10 | lavrentiya\n",
      "Processing Record 4 of Set 10 | angoram\n",
      "Processing Record 5 of Set 10 | roald\n",
      "Processing Record 6 of Set 10 | north bend\n",
      "Processing Record 7 of Set 10 | chapais\n",
      "Processing Record 8 of Set 10 | alice springs\n",
      "Processing Record 9 of Set 10 | bargal\n",
      "bargal not found. Skipping...\n",
      "Processing Record 10 of Set 10 | gat\n",
      "Processing Record 11 of Set 10 | pemberton\n",
      "Processing Record 12 of Set 10 | iberia\n",
      "Processing Record 13 of Set 10 | sisimiut\n",
      "Processing Record 14 of Set 10 | goderich\n",
      "Processing Record 15 of Set 10 | lagoa\n",
      "Processing Record 16 of Set 10 | bubaque\n",
      "Processing Record 17 of Set 10 | college\n",
      "Processing Record 18 of Set 10 | zhigansk\n",
      "Processing Record 19 of Set 10 | eyl\n",
      "Processing Record 20 of Set 10 | umm lajj\n",
      "Processing Record 21 of Set 10 | razdolinsk\n",
      "Processing Record 22 of Set 10 | kaifeng\n",
      "Processing Record 23 of Set 10 | samarai\n",
      "Processing Record 24 of Set 10 | carauari\n",
      "Processing Record 25 of Set 10 | eydhafushi\n",
      "Processing Record 26 of Set 10 | tura\n",
      "Processing Record 27 of Set 10 | rotifunk\n",
      "Processing Record 28 of Set 10 | high rock\n",
      "Processing Record 29 of Set 10 | mayor pablo lagerenza\n",
      "Processing Record 30 of Set 10 | vilyuysk\n",
      "Processing Record 31 of Set 10 | izazi\n",
      "Processing Record 32 of Set 10 | kloulklubed\n",
      "Processing Record 33 of Set 10 | fortuna\n",
      "Processing Record 34 of Set 10 | pochutla\n",
      "Processing Record 35 of Set 10 | mendi\n",
      "Processing Record 36 of Set 10 | bolshoye sorokino\n",
      "bolshoye sorokino not found. Skipping...\n",
      "Processing Record 37 of Set 10 | bronnoysund\n",
      "Processing Record 38 of Set 10 | kafr yuba\n",
      "kafr yuba not found. Skipping...\n",
      "Processing Record 39 of Set 10 | rocha\n",
      "Processing Record 40 of Set 10 | peniche\n",
      "Processing Record 41 of Set 10 | naberera\n",
      "Processing Record 42 of Set 10 | chepareria\n",
      "Processing Record 43 of Set 10 | chumikan\n",
      "Processing Record 44 of Set 10 | atar\n",
      "Processing Record 45 of Set 10 | livingston\n",
      "Processing Record 46 of Set 10 | walvis bay\n",
      "Processing Record 47 of Set 10 | burgeo\n",
      "Processing Record 48 of Set 10 | mahadday weyne\n",
      "mahadday weyne not found. Skipping...\n",
      "Processing Record 49 of Set 10 | coahuayana\n",
      "Processing Record 50 of Set 10 | tiruvottiyur\n",
      "tiruvottiyur not found. Skipping...\n",
      "Processing Record 1 of Set 11 | leningradskiy\n",
      "Processing Record 2 of Set 11 | vichy\n",
      "Processing Record 3 of Set 11 | skagen\n",
      "Processing Record 4 of Set 11 | bonito\n",
      "Processing Record 5 of Set 11 | meulaboh\n",
      "Processing Record 6 of Set 11 | lupiro\n",
      "Processing Record 7 of Set 11 | vao\n",
      "Processing Record 8 of Set 11 | mariana\n",
      "Processing Record 9 of Set 11 | geraldton\n",
      "Processing Record 10 of Set 11 | linjiang\n",
      "Processing Record 11 of Set 11 | aklavik\n",
      "Processing Record 12 of Set 11 | aripuana\n",
      "Processing Record 13 of Set 11 | saint anthony\n",
      "Processing Record 14 of Set 11 | kismayo\n",
      "Processing Record 15 of Set 11 | bilibino\n",
      "Processing Record 16 of Set 11 | natchitoches\n",
      "Processing Record 17 of Set 11 | san pedro\n",
      "Processing Record 18 of Set 11 | kadnikov\n",
      "Processing Record 19 of Set 11 | georgetown\n",
      "Processing Record 20 of Set 11 | kamenskoye\n",
      "kamenskoye not found. Skipping...\n",
      "Processing Record 21 of Set 11 | shingu\n",
      "Processing Record 22 of Set 11 | potosi\n",
      "Processing Record 23 of Set 11 | palana\n",
      "Processing Record 24 of Set 11 | pauini\n",
      "Processing Record 25 of Set 11 | batemans bay\n",
      "Processing Record 26 of Set 11 | shache\n",
      "Processing Record 27 of Set 11 | moron\n",
      "Processing Record 28 of Set 11 | saint-michel-des-saints\n",
      "Processing Record 29 of Set 11 | westport\n",
      "Processing Record 30 of Set 11 | umm kaddadah\n",
      "Processing Record 31 of Set 11 | asmar\n",
      "Processing Record 32 of Set 11 | koslan\n",
      "Processing Record 33 of Set 11 | pokhara\n",
      "Processing Record 34 of Set 11 | houlung\n",
      "houlung not found. Skipping...\n",
      "Processing Record 35 of Set 11 | jalalpur pirwala\n",
      "Processing Record 36 of Set 11 | mezhdurechensk\n",
      "Processing Record 37 of Set 11 | ler\n",
      "Processing Record 38 of Set 11 | marawi\n",
      "Processing Record 39 of Set 11 | qaqortoq\n",
      "Processing Record 40 of Set 11 | gebre guracha\n",
      "Processing Record 41 of Set 11 | svarstad\n",
      "Processing Record 42 of Set 11 | ishigaki\n",
      "Processing Record 43 of Set 11 | sarkand\n",
      "Processing Record 44 of Set 11 | yangambi\n",
      "Processing Record 45 of Set 11 | rouvroy\n",
      "Processing Record 46 of Set 11 | sidhi\n",
      "Processing Record 47 of Set 11 | necochea\n",
      "Processing Record 48 of Set 11 | pochinki\n",
      "Processing Record 49 of Set 11 | wolmaranstad\n",
      "wolmaranstad not found. Skipping...\n",
      "Processing Record 50 of Set 11 | cap malheureux\n",
      "Processing Record 1 of Set 12 | wasilla\n",
      "Processing Record 2 of Set 12 | jabiru\n",
      "jabiru not found. Skipping...\n",
      "Processing Record 3 of Set 12 | mahabad\n",
      "Processing Record 4 of Set 12 | digha\n"
     ]
    },
    {
     "name": "stdout",
     "output_type": "stream",
     "text": [
      "Processing Record 5 of Set 12 | pravia\n",
      "Processing Record 6 of Set 12 | saint-doulchard\n",
      "Processing Record 7 of Set 12 | rumonge\n",
      "Processing Record 8 of Set 12 | petropavlovka\n",
      "Processing Record 9 of Set 12 | hecun\n",
      "Processing Record 10 of Set 12 | mbigou\n",
      "Processing Record 11 of Set 12 | prince rupert\n",
      "Processing Record 12 of Set 12 | flin flon\n",
      "Processing Record 13 of Set 12 | warqla\n",
      "warqla not found. Skipping...\n",
      "Processing Record 14 of Set 12 | barabai\n",
      "Processing Record 15 of Set 12 | namibe\n",
      "Processing Record 16 of Set 12 | dongning\n",
      "Processing Record 17 of Set 12 | ngunguru\n",
      "Processing Record 18 of Set 12 | palanpur\n",
      "Processing Record 19 of Set 12 | katherine\n",
      "Processing Record 20 of Set 12 | aleksandrovskiy zavod\n",
      "Processing Record 21 of Set 12 | komsomolskiy\n",
      "Processing Record 22 of Set 12 | bawku\n",
      "Processing Record 23 of Set 12 | puerto madero\n",
      "Processing Record 24 of Set 12 | krasnyy kut\n",
      "Processing Record 25 of Set 12 | fairview\n",
      "Processing Record 26 of Set 12 | naze\n",
      "Processing Record 27 of Set 12 | udachnyy\n",
      "Processing Record 28 of Set 12 | panzhihua\n",
      "Processing Record 29 of Set 12 | kroya\n",
      "Processing Record 30 of Set 12 | castlegar\n",
      "Processing Record 31 of Set 12 | tarko-sale\n",
      "Processing Record 32 of Set 12 | tarnogskiy gorodok\n",
      "Processing Record 33 of Set 12 | sawang daen din\n",
      "Processing Record 34 of Set 12 | balakhninskiy\n",
      "Processing Record 35 of Set 12 | labuhan\n",
      "Processing Record 36 of Set 12 | karari\n",
      "Processing Record 37 of Set 12 | turan\n",
      "Processing Record 38 of Set 12 | popondetta\n",
      "Processing Record 39 of Set 12 | mocuba\n",
      "Processing Record 40 of Set 12 | sulangan\n",
      "Processing Record 41 of Set 12 | klyuchi\n",
      "Processing Record 42 of Set 12 | svetlogorsk\n",
      "Processing Record 43 of Set 12 | medicine hat\n",
      "Processing Record 44 of Set 12 | galesong\n",
      "Processing Record 45 of Set 12 | kandrian\n",
      "Processing Record 46 of Set 12 | visnes\n",
      "Processing Record 47 of Set 12 | russkaya polyana\n",
      "Processing Record 48 of Set 12 | anadyr\n",
      "Processing Record 49 of Set 12 | kabompo\n",
      "Processing Record 50 of Set 12 | santa cruz\n",
      "Processing Record 1 of Set 13 | creel\n",
      "Processing Record 2 of Set 13 | tondano\n",
      "Processing Record 3 of Set 13 | katobu\n",
      "Processing Record 4 of Set 13 | caceres\n",
      "Processing Record 5 of Set 13 | paralimni\n",
      "Processing Record 6 of Set 13 | ekhabi\n",
      "Processing Record 7 of Set 13 | ayan\n",
      "Processing Record 8 of Set 13 | booue\n",
      "Processing Record 9 of Set 13 | hayesville\n",
      "Processing Record 10 of Set 13 | basco\n",
      "Processing Record 11 of Set 13 | taoudenni\n",
      "Processing Record 12 of Set 13 | huarmey\n",
      "Processing Record 13 of Set 13 | yenagoa\n",
      "Processing Record 14 of Set 13 | almaznyy\n",
      "Processing Record 15 of Set 13 | natal\n",
      "Processing Record 16 of Set 13 | changping\n",
      "Processing Record 17 of Set 13 | upington\n",
      "Processing Record 18 of Set 13 | gospic\n",
      "Processing Record 19 of Set 13 | houma\n",
      "Processing Record 20 of Set 13 | mozhga\n",
      "Processing Record 21 of Set 13 | port blair\n",
      "Processing Record 22 of Set 13 | muroto\n",
      "Processing Record 23 of Set 13 | wetaskiwin\n",
      "Processing Record 24 of Set 13 | ahipara\n",
      "Processing Record 25 of Set 13 | harper\n",
      "Processing Record 26 of Set 13 | khasan\n",
      "Processing Record 27 of Set 13 | ouadda\n",
      "Processing Record 28 of Set 13 | russell\n"
     ]
    }
   ],
   "source": [
    "#base url\n",
    "url = f\"http://api.openweathermap.org/data/2.5/weather?units=imperial&appid={weather_api_key}&q=\" #+city\n",
    "#listing city data\n",
    "cityData =[]\n",
    "\n",
    "#grouping variables\n",
    "set_count = 1 # group\n",
    "record = 1 # record within the group\n",
    "\n",
    "print(\"Beginning Data Retrieval\")\n",
    "print(\"---------------------------\")\n",
    "\n",
    "for i, city in enumerate(cities):\n",
    "    #ggroup the cities in sets of 50\n",
    "    if (i % 50 == 0 and i >= 50):\n",
    "        set_count += 1 #make a new group\n",
    "        record = 1 #reset the ount of records in the new group\n",
    "        \n",
    "       #output the record and group being processed from the list of cities\n",
    "    print(f\"Processing Record {record} of Set {set_count} | {city}\")\n",
    "    \n",
    "    #increase the record count within the set\n",
    "    record += 1\n",
    "    \n",
    "    #create a url that inclused the city\n",
    "    cityURL = url + city\n",
    "    \n",
    "    #call the openWeather API and make a request\n",
    "    \n",
    "    try:\n",
    "        cityWeather = requests.get(cityURL).json()\n",
    "        #parse out data\n",
    "        lat = cityWeather[\"coord\"][\"lat\"]\n",
    "        lon = cityWeather[\"coord\"][\"lon\"]\n",
    "        maxTemp = cityWeather[\"main\"][\"temp_max\"]\n",
    "        humidity = cityWeather[\"main\"][\"humidity\"]\n",
    "        cloudiness = cityWeather[\"clouds\"][\"all\"]\n",
    "        windspeed = cityWeather[\"wind\"][\"speed\"]\n",
    "        date = cityWeather[\"dt\"]\n",
    "        \n",
    "        cityData.append({\"City\": city,\n",
    "                        \"Lat\": lat,\n",
    "                        \"Lon\": lon,\n",
    "                        \"Max Temp\": maxTemp,\n",
    "                        \"Humidity\": humidity,\n",
    "                        \"Cloudiness\": cloudiness,\n",
    "                        \"Wind Speed\": windspeed,\n",
    "                        \"Date\": date})\n",
    "        \n",
    "    except:\n",
    "        print(f\"{city} not found. Skipping...\")\n",
    "        pass\n",
    "    \n",
    "#     if(i==5):\n",
    "#         break"
   ]
  },
  {
   "cell_type": "code",
   "execution_count": null,
   "metadata": {},
   "outputs": [],
   "source": []
  },
  {
   "cell_type": "code",
   "execution_count": null,
   "metadata": {
    "scrolled": true
   },
   "outputs": [],
   "source": []
  },
  {
   "cell_type": "markdown",
   "metadata": {},
   "source": [
    "### Convert Raw Data to DataFrame\n",
    "* Export the city data into a .csv.\n",
    "* Display the DataFrame"
   ]
  },
  {
   "cell_type": "code",
   "execution_count": 105,
   "metadata": {},
   "outputs": [
    {
     "data": {
      "text/html": [
       "<div>\n",
       "<style scoped>\n",
       "    .dataframe tbody tr th:only-of-type {\n",
       "        vertical-align: middle;\n",
       "    }\n",
       "\n",
       "    .dataframe tbody tr th {\n",
       "        vertical-align: top;\n",
       "    }\n",
       "\n",
       "    .dataframe thead th {\n",
       "        text-align: right;\n",
       "    }\n",
       "</style>\n",
       "<table border=\"1\" class=\"dataframe\">\n",
       "  <thead>\n",
       "    <tr style=\"text-align: right;\">\n",
       "      <th></th>\n",
       "      <th>City</th>\n",
       "      <th>Lat</th>\n",
       "      <th>Lon</th>\n",
       "      <th>Max Temp</th>\n",
       "      <th>Humidity</th>\n",
       "      <th>Cloudiness</th>\n",
       "      <th>Wind Speed</th>\n",
       "      <th>Date</th>\n",
       "    </tr>\n",
       "  </thead>\n",
       "  <tbody>\n",
       "    <tr>\n",
       "      <th>0</th>\n",
       "      <td>castro</td>\n",
       "      <td>-24.7911</td>\n",
       "      <td>-50.0119</td>\n",
       "      <td>51.08</td>\n",
       "      <td>95</td>\n",
       "      <td>22</td>\n",
       "      <td>2.46</td>\n",
       "      <td>1619149858</td>\n",
       "    </tr>\n",
       "    <tr>\n",
       "      <th>1</th>\n",
       "      <td>port elizabeth</td>\n",
       "      <td>-33.9180</td>\n",
       "      <td>25.5701</td>\n",
       "      <td>62.60</td>\n",
       "      <td>94</td>\n",
       "      <td>0</td>\n",
       "      <td>16.11</td>\n",
       "      <td>1619149859</td>\n",
       "    </tr>\n",
       "    <tr>\n",
       "      <th>2</th>\n",
       "      <td>mataura</td>\n",
       "      <td>-46.1927</td>\n",
       "      <td>168.8643</td>\n",
       "      <td>52.00</td>\n",
       "      <td>91</td>\n",
       "      <td>100</td>\n",
       "      <td>7.00</td>\n",
       "      <td>1619149721</td>\n",
       "    </tr>\n",
       "    <tr>\n",
       "      <th>3</th>\n",
       "      <td>hithadhoo</td>\n",
       "      <td>-0.6000</td>\n",
       "      <td>73.0833</td>\n",
       "      <td>83.08</td>\n",
       "      <td>71</td>\n",
       "      <td>90</td>\n",
       "      <td>6.31</td>\n",
       "      <td>1619149860</td>\n",
       "    </tr>\n",
       "    <tr>\n",
       "      <th>4</th>\n",
       "      <td>mahebourg</td>\n",
       "      <td>-20.4081</td>\n",
       "      <td>57.7000</td>\n",
       "      <td>73.40</td>\n",
       "      <td>94</td>\n",
       "      <td>75</td>\n",
       "      <td>3.44</td>\n",
       "      <td>1619149860</td>\n",
       "    </tr>\n",
       "    <tr>\n",
       "      <th>...</th>\n",
       "      <td>...</td>\n",
       "      <td>...</td>\n",
       "      <td>...</td>\n",
       "      <td>...</td>\n",
       "      <td>...</td>\n",
       "      <td>...</td>\n",
       "      <td>...</td>\n",
       "      <td>...</td>\n",
       "    </tr>\n",
       "    <tr>\n",
       "      <th>569</th>\n",
       "      <td>ahipara</td>\n",
       "      <td>-35.1667</td>\n",
       "      <td>173.1667</td>\n",
       "      <td>66.56</td>\n",
       "      <td>81</td>\n",
       "      <td>87</td>\n",
       "      <td>5.59</td>\n",
       "      <td>1619149687</td>\n",
       "    </tr>\n",
       "    <tr>\n",
       "      <th>570</th>\n",
       "      <td>harper</td>\n",
       "      <td>4.3750</td>\n",
       "      <td>-7.7169</td>\n",
       "      <td>80.02</td>\n",
       "      <td>86</td>\n",
       "      <td>100</td>\n",
       "      <td>6.40</td>\n",
       "      <td>1619149688</td>\n",
       "    </tr>\n",
       "    <tr>\n",
       "      <th>571</th>\n",
       "      <td>khasan</td>\n",
       "      <td>42.4308</td>\n",
       "      <td>130.6434</td>\n",
       "      <td>50.86</td>\n",
       "      <td>66</td>\n",
       "      <td>100</td>\n",
       "      <td>5.93</td>\n",
       "      <td>1619149688</td>\n",
       "    </tr>\n",
       "    <tr>\n",
       "      <th>572</th>\n",
       "      <td>ouadda</td>\n",
       "      <td>8.0777</td>\n",
       "      <td>22.4007</td>\n",
       "      <td>70.30</td>\n",
       "      <td>73</td>\n",
       "      <td>89</td>\n",
       "      <td>4.90</td>\n",
       "      <td>1619149688</td>\n",
       "    </tr>\n",
       "    <tr>\n",
       "      <th>573</th>\n",
       "      <td>russell</td>\n",
       "      <td>32.3502</td>\n",
       "      <td>-85.1999</td>\n",
       "      <td>51.80</td>\n",
       "      <td>76</td>\n",
       "      <td>1</td>\n",
       "      <td>4.00</td>\n",
       "      <td>1619149689</td>\n",
       "    </tr>\n",
       "  </tbody>\n",
       "</table>\n",
       "<p>574 rows × 8 columns</p>\n",
       "</div>"
      ],
      "text/plain": [
       "               City      Lat       Lon  Max Temp  Humidity  Cloudiness  \\\n",
       "0            castro -24.7911  -50.0119     51.08        95          22   \n",
       "1    port elizabeth -33.9180   25.5701     62.60        94           0   \n",
       "2           mataura -46.1927  168.8643     52.00        91         100   \n",
       "3         hithadhoo  -0.6000   73.0833     83.08        71          90   \n",
       "4         mahebourg -20.4081   57.7000     73.40        94          75   \n",
       "..              ...      ...       ...       ...       ...         ...   \n",
       "569         ahipara -35.1667  173.1667     66.56        81          87   \n",
       "570          harper   4.3750   -7.7169     80.02        86         100   \n",
       "571          khasan  42.4308  130.6434     50.86        66         100   \n",
       "572          ouadda   8.0777   22.4007     70.30        73          89   \n",
       "573         russell  32.3502  -85.1999     51.80        76           1   \n",
       "\n",
       "     Wind Speed        Date  \n",
       "0          2.46  1619149858  \n",
       "1         16.11  1619149859  \n",
       "2          7.00  1619149721  \n",
       "3          6.31  1619149860  \n",
       "4          3.44  1619149860  \n",
       "..          ...         ...  \n",
       "569        5.59  1619149687  \n",
       "570        6.40  1619149688  \n",
       "571        5.93  1619149688  \n",
       "572        4.90  1619149688  \n",
       "573        4.00  1619149689  \n",
       "\n",
       "[574 rows x 8 columns]"
      ]
     },
     "execution_count": 105,
     "metadata": {},
     "output_type": "execute_result"
    }
   ],
   "source": [
    "cityData_pd = pd.DataFrame(cityData)\n",
    "cityData_pd"
   ]
  },
  {
   "cell_type": "code",
   "execution_count": null,
   "metadata": {},
   "outputs": [],
   "source": []
  },
  {
   "cell_type": "markdown",
   "metadata": {},
   "source": [
    "## Inspect the data and remove the cities where the humidity > 100%.\n",
    "----\n",
    "Skip this step if there are no cities that have humidity > 100%. "
   ]
  },
  {
   "cell_type": "code",
   "execution_count": 106,
   "metadata": {},
   "outputs": [
    {
     "data": {
      "text/plain": [
       "574"
      ]
     },
     "execution_count": 106,
     "metadata": {},
     "output_type": "execute_result"
    }
   ],
   "source": [
    "cityData_pd = cityData_pd.loc[(cityData_pd[\"Humidity\"] <= 100)]\n",
    "len(cityData_pd)\n"
   ]
  },
  {
   "cell_type": "code",
   "execution_count": 107,
   "metadata": {},
   "outputs": [
    {
     "data": {
      "text/plain": [
       "Int64Index([], dtype='int64')"
      ]
     },
     "execution_count": 107,
     "metadata": {},
     "output_type": "execute_result"
    }
   ],
   "source": [
    "#  Get the indices of cities that have humidity over 100%.\n",
    "city_data_humidity = cityData_pd[(cityData_pd[\"Humidity\"] > 100)].index\n",
    "city_data_humidity"
   ]
  },
  {
   "cell_type": "code",
   "execution_count": 108,
   "metadata": {},
   "outputs": [
    {
     "data": {
      "text/html": [
       "<div>\n",
       "<style scoped>\n",
       "    .dataframe tbody tr th:only-of-type {\n",
       "        vertical-align: middle;\n",
       "    }\n",
       "\n",
       "    .dataframe tbody tr th {\n",
       "        vertical-align: top;\n",
       "    }\n",
       "\n",
       "    .dataframe thead th {\n",
       "        text-align: right;\n",
       "    }\n",
       "</style>\n",
       "<table border=\"1\" class=\"dataframe\">\n",
       "  <thead>\n",
       "    <tr style=\"text-align: right;\">\n",
       "      <th></th>\n",
       "      <th>City</th>\n",
       "      <th>Lat</th>\n",
       "      <th>Lon</th>\n",
       "      <th>Max Temp</th>\n",
       "      <th>Humidity</th>\n",
       "      <th>Cloudiness</th>\n",
       "      <th>Wind Speed</th>\n",
       "      <th>Date</th>\n",
       "    </tr>\n",
       "  </thead>\n",
       "  <tbody>\n",
       "    <tr>\n",
       "      <th>0</th>\n",
       "      <td>castro</td>\n",
       "      <td>-24.7911</td>\n",
       "      <td>-50.0119</td>\n",
       "      <td>51.08</td>\n",
       "      <td>95</td>\n",
       "      <td>22</td>\n",
       "      <td>2.46</td>\n",
       "      <td>1619149858</td>\n",
       "    </tr>\n",
       "    <tr>\n",
       "      <th>1</th>\n",
       "      <td>port elizabeth</td>\n",
       "      <td>-33.9180</td>\n",
       "      <td>25.5701</td>\n",
       "      <td>62.60</td>\n",
       "      <td>94</td>\n",
       "      <td>0</td>\n",
       "      <td>16.11</td>\n",
       "      <td>1619149859</td>\n",
       "    </tr>\n",
       "    <tr>\n",
       "      <th>2</th>\n",
       "      <td>mataura</td>\n",
       "      <td>-46.1927</td>\n",
       "      <td>168.8643</td>\n",
       "      <td>52.00</td>\n",
       "      <td>91</td>\n",
       "      <td>100</td>\n",
       "      <td>7.00</td>\n",
       "      <td>1619149721</td>\n",
       "    </tr>\n",
       "    <tr>\n",
       "      <th>3</th>\n",
       "      <td>hithadhoo</td>\n",
       "      <td>-0.6000</td>\n",
       "      <td>73.0833</td>\n",
       "      <td>83.08</td>\n",
       "      <td>71</td>\n",
       "      <td>90</td>\n",
       "      <td>6.31</td>\n",
       "      <td>1619149860</td>\n",
       "    </tr>\n",
       "    <tr>\n",
       "      <th>4</th>\n",
       "      <td>mahebourg</td>\n",
       "      <td>-20.4081</td>\n",
       "      <td>57.7000</td>\n",
       "      <td>73.40</td>\n",
       "      <td>94</td>\n",
       "      <td>75</td>\n",
       "      <td>3.44</td>\n",
       "      <td>1619149860</td>\n",
       "    </tr>\n",
       "    <tr>\n",
       "      <th>...</th>\n",
       "      <td>...</td>\n",
       "      <td>...</td>\n",
       "      <td>...</td>\n",
       "      <td>...</td>\n",
       "      <td>...</td>\n",
       "      <td>...</td>\n",
       "      <td>...</td>\n",
       "      <td>...</td>\n",
       "    </tr>\n",
       "    <tr>\n",
       "      <th>569</th>\n",
       "      <td>ahipara</td>\n",
       "      <td>-35.1667</td>\n",
       "      <td>173.1667</td>\n",
       "      <td>66.56</td>\n",
       "      <td>81</td>\n",
       "      <td>87</td>\n",
       "      <td>5.59</td>\n",
       "      <td>1619149687</td>\n",
       "    </tr>\n",
       "    <tr>\n",
       "      <th>570</th>\n",
       "      <td>harper</td>\n",
       "      <td>4.3750</td>\n",
       "      <td>-7.7169</td>\n",
       "      <td>80.02</td>\n",
       "      <td>86</td>\n",
       "      <td>100</td>\n",
       "      <td>6.40</td>\n",
       "      <td>1619149688</td>\n",
       "    </tr>\n",
       "    <tr>\n",
       "      <th>571</th>\n",
       "      <td>khasan</td>\n",
       "      <td>42.4308</td>\n",
       "      <td>130.6434</td>\n",
       "      <td>50.86</td>\n",
       "      <td>66</td>\n",
       "      <td>100</td>\n",
       "      <td>5.93</td>\n",
       "      <td>1619149688</td>\n",
       "    </tr>\n",
       "    <tr>\n",
       "      <th>572</th>\n",
       "      <td>ouadda</td>\n",
       "      <td>8.0777</td>\n",
       "      <td>22.4007</td>\n",
       "      <td>70.30</td>\n",
       "      <td>73</td>\n",
       "      <td>89</td>\n",
       "      <td>4.90</td>\n",
       "      <td>1619149688</td>\n",
       "    </tr>\n",
       "    <tr>\n",
       "      <th>573</th>\n",
       "      <td>russell</td>\n",
       "      <td>32.3502</td>\n",
       "      <td>-85.1999</td>\n",
       "      <td>51.80</td>\n",
       "      <td>76</td>\n",
       "      <td>1</td>\n",
       "      <td>4.00</td>\n",
       "      <td>1619149689</td>\n",
       "    </tr>\n",
       "  </tbody>\n",
       "</table>\n",
       "<p>574 rows × 8 columns</p>\n",
       "</div>"
      ],
      "text/plain": [
       "               City      Lat       Lon  Max Temp  Humidity  Cloudiness  \\\n",
       "0            castro -24.7911  -50.0119     51.08        95          22   \n",
       "1    port elizabeth -33.9180   25.5701     62.60        94           0   \n",
       "2           mataura -46.1927  168.8643     52.00        91         100   \n",
       "3         hithadhoo  -0.6000   73.0833     83.08        71          90   \n",
       "4         mahebourg -20.4081   57.7000     73.40        94          75   \n",
       "..              ...      ...       ...       ...       ...         ...   \n",
       "569         ahipara -35.1667  173.1667     66.56        81          87   \n",
       "570          harper   4.3750   -7.7169     80.02        86         100   \n",
       "571          khasan  42.4308  130.6434     50.86        66         100   \n",
       "572          ouadda   8.0777   22.4007     70.30        73          89   \n",
       "573         russell  32.3502  -85.1999     51.80        76           1   \n",
       "\n",
       "     Wind Speed        Date  \n",
       "0          2.46  1619149858  \n",
       "1         16.11  1619149859  \n",
       "2          7.00  1619149721  \n",
       "3          6.31  1619149860  \n",
       "4          3.44  1619149860  \n",
       "..          ...         ...  \n",
       "569        5.59  1619149687  \n",
       "570        6.40  1619149688  \n",
       "571        5.93  1619149688  \n",
       "572        4.90  1619149688  \n",
       "573        4.00  1619149689  \n",
       "\n",
       "[574 rows x 8 columns]"
      ]
     },
     "execution_count": 108,
     "metadata": {},
     "output_type": "execute_result"
    }
   ],
   "source": [
    "# Make a new DataFrame equal to the city data to drop all humidity outliers by index.\n",
    "# Passing \"inplace=False\" will make a copy of the city_data DataFrame, which we call \"clean_city_data\".\n",
    "clean_city_data = cityData_pd.drop(city_data_humidity, inplace = False)\n",
    "clean_city_data"
   ]
  },
  {
   "cell_type": "code",
   "execution_count": null,
   "metadata": {},
   "outputs": [],
   "source": [
    "\n"
   ]
  },
  {
   "cell_type": "markdown",
   "metadata": {},
   "source": [
    "## Plotting the Data\n",
    "* Use proper labeling of the plots using plot titles (including date of analysis) and axes labels.\n",
    "* Save the plotted figures as .pngs."
   ]
  },
  {
   "cell_type": "markdown",
   "metadata": {},
   "source": [
    "## Latitude vs. Temperature Plot"
   ]
  },
  {
   "cell_type": "code",
   "execution_count": 109,
   "metadata": {
    "scrolled": true
   },
   "outputs": [
    {
     "data": {
      "image/png": "[encoded data removed]",
      "text/plain": [
       "<Figure size 432x288 with 1 Axes>"
      ]
     },
     "metadata": {
      "needs_background": "light"
     },
     "output_type": "display_data"
    }
   ],
   "source": [
    "plt.scatter(clean_city_data['Lat'], clean_city_data['Max Temp'], marker=\"o\", edgecolors = 'b')\n",
    "plt.xlabel(\"Latitude\")\n",
    "plt.ylabel(\"Max Temperature(F)\")\n",
    "plt.title(\"City Latitude vs Max Temperature\")\n",
    "plt.grid(True)\n",
    "\n",
    "# Save the figure\n",
    "plt.savefig(\"City Latitude vs Max Temperature.png\")\n",
    "\n",
    "plt.show()"
   ]
  },
  {
   "cell_type": "markdown",
   "metadata": {},
   "source": [
    "## Latitude vs. Humidity Plot"
   ]
  },
  {
   "cell_type": "code",
   "execution_count": 110,
   "metadata": {},
   "outputs": [
    {
     "data": {
      "image/png": "[encoded data removed]",
      "text/plain": [
       "<Figure size 432x288 with 1 Axes>"
      ]
     },
     "metadata": {
      "needs_background": "light"
     },
     "output_type": "display_data"
    }
   ],
   "source": [
    "plt.scatter(clean_city_data['Lat'], clean_city_data['Humidity'], marker=\"o\", edgecolors = 'b')\n",
    "plt.xlabel(\"Latitude\")\n",
    "plt.ylabel(\"Humidity (%)\")\n",
    "plt.title(\"City Latitude vs. Humidity Plot\")\n",
    "plt.grid(True)\n",
    "\n",
    "# Save the figure\n",
    "plt.savefig(\"City Latitude vs. Humidity Plot.png\")\n",
    "\n",
    "plt.show()"
   ]
  },
  {
   "cell_type": "markdown",
   "metadata": {},
   "source": [
    "## Latitude vs. Cloudiness Plot"
   ]
  },
  {
   "cell_type": "code",
   "execution_count": 111,
   "metadata": {},
   "outputs": [
    {
     "data": {
      "image/png": "[encoded data removed]",
      "text/plain": [
       "<Figure size 432x288 with 1 Axes>"
      ]
     },
     "metadata": {
      "needs_background": "light"
     },
     "output_type": "display_data"
    }
   ],
   "source": [
    "plt.scatter(clean_city_data['Lat'], clean_city_data['Cloudiness'], marker=\"o\", edgecolors = 'b')\n",
    "plt.xlabel(\"Latitude\")\n",
    "plt.ylabel(\"Cloudiness (%)\")\n",
    "plt.title(\"Latitude vs. Cloudiness Plot\")\n",
    "plt.grid(True)\n",
    "\n",
    "# Save the figure\n",
    "plt.savefig(\"Latitude vs. Cloudiness Plot.png\")\n",
    "\n",
    "plt.show()"
   ]
  },
  {
   "cell_type": "markdown",
   "metadata": {},
   "source": [
    "## Latitude vs. Wind Speed Plot"
   ]
  },
  {
   "cell_type": "code",
   "execution_count": 112,
   "metadata": {},
   "outputs": [
    {
     "data": {
      "image/png": "[encoded data removed]",
      "text/plain": [
       "<Figure size 432x288 with 1 Axes>"
      ]
     },
     "metadata": {
      "needs_background": "light"
     },
     "output_type": "display_data"
    }
   ],
   "source": [
    "plt.scatter(clean_city_data['Lat'], clean_city_data['Wind Speed'], marker=\"o\", edgecolors = 'b')\n",
    "plt.xlabel(\"Latitude\")\n",
    "plt.ylabel(\"Wind Speed (mph)\")\n",
    "plt.title(\"Latitude vs. Wind Speed Plot\")\n",
    "plt.grid(True)\n",
    "\n",
    "# Save the figure\n",
    "plt.savefig(\"Latitude vs. Wind Speed Plot.png\")\n",
    "\n",
    "plt.show()"
   ]
  },
  {
   "cell_type": "markdown",
   "metadata": {},
   "source": [
    "## Linear Regression"
   ]
  },
  {
   "cell_type": "code",
   "execution_count": 113,
   "metadata": {},
   "outputs": [],
   "source": [
    "Northern = clean_city_data.loc[(clean_city_data[\"Lat\"] > 0)]\n",
    "# len(Northern)\n",
    "Southern = clean_city_data.loc[(clean_city_data[\"Lat\"] < 0)]\n"
   ]
  },
  {
   "cell_type": "markdown",
   "metadata": {},
   "source": [
    "####  Northern Hemisphere - Max Temp vs. Latitude Linear Regression"
   ]
  },
  {
   "cell_type": "code",
   "execution_count": 129,
   "metadata": {},
   "outputs": [
    {
     "name": "stdout",
     "output_type": "stream",
     "text": [
      "The r-value is: -0.8848809776043252\n"
     ]
    },
    {
     "data": {
      "image/png": "[encoded data removed]",
      "text/plain": [
       "<Figure size 432x288 with 1 Axes>"
      ]
     },
     "metadata": {
      "needs_background": "light"
     },
     "output_type": "display_data"
    }
   ],
   "source": [
    "slope, intercept, r_value, p_value, std_err = st.linregress(Northern['Lat'], Northern['Max Temp'])\n",
    "fit = slope * Northern['Lat'] + intercept\n",
    "line_eq = \"y = \" + str(round(slope,2)) + \"x + \" + str(round(intercept,2))\n",
    "\n",
    "correlation = st.pearsonr(Northern['Lat'], Northern['Max Temp'])\n",
    "plt.scatter(Northern['Lat'], Northern['Max Temp'])\n",
    "\n",
    "plt.annotate(line_eq,(1,20),fontsize=15,color=\"red\")\n",
    "plt.plot(Northern['Lat'], fit,\"-\", color = \"r\")\n",
    "# plt.xticks(Northern['Lat'], rotation=90)\n",
    "plt.xlabel('Latitude')\n",
    "plt.ylabel('Max Temp')\n",
    "print(f\"The r-value is: {r_value}\")\n",
    "# Save the figure\n",
    "plt.savefig(\"Max Temp vs. Latitude Linear Regression.png\")\n",
    "plt.show()\n"
   ]
  },
  {
   "cell_type": "markdown",
   "metadata": {},
   "source": [
    "####  Southern Hemisphere - Max Temp vs. Latitude Linear Regression"
   ]
  },
  {
   "cell_type": "code",
   "execution_count": 131,
   "metadata": {},
   "outputs": [
    {
     "name": "stdout",
     "output_type": "stream",
     "text": [
      "The r-value is: 0.6797195019661021\n"
     ]
    },
    {
     "data": {
      "image/png": "[encoded data removed]",
      "text/plain": [
       "<Figure size 432x288 with 1 Axes>"
      ]
     },
     "metadata": {
      "needs_background": "light"
     },
     "output_type": "display_data"
    }
   ],
   "source": [
    "slope, intercept, r_value, p_value, std_err = st.linregress(Southern['Lat'], Southern['Max Temp'])\n",
    "fit = slope * Southern['Lat'] + intercept\n",
    "line_eq = \"y = \" + str(round(slope,2)) + \"x + \" + str(round(intercept,2))\n",
    "\n",
    "correlation = st.pearsonr(Southern['Lat'], Southern['Max Temp'])\n",
    "plt.scatter(Southern['Lat'], Southern['Max Temp'])\n",
    "\n",
    "plt.annotate(line_eq,(-50,90),fontsize=15,color=\"red\")\n",
    "plt.plot(Southern['Lat'], fit,\"-\", color = \"r\")\n",
    "# plt.xticks(Southern['Lat'], rotation=90)\n",
    "plt.xlabel('Latitude')\n",
    "plt.ylabel('Max Temp')\n",
    "print(f\"The r-value is: {r_value}\")\n",
    "# Save the figure\n",
    "plt.savefig(\"Max Temp vs. Latitude Linear Regression.png\")\n",
    "plt.show()"
   ]
  },
  {
   "cell_type": "markdown",
   "metadata": {},
   "source": [
    "####  Northern Hemisphere - Humidity (%) vs. Latitude Linear Regression"
   ]
  },
  {
   "cell_type": "code",
   "execution_count": 134,
   "metadata": {},
   "outputs": [
    {
     "name": "stdout",
     "output_type": "stream",
     "text": [
      "The r-value is: 0.21387671763769098\n"
     ]
    },
    {
     "data": {
      "image/png": "[encoded data removed]",
      "text/plain": [
       "<Figure size 432x288 with 1 Axes>"
      ]
     },
     "metadata": {
      "needs_background": "light"
     },
     "output_type": "display_data"
    }
   ],
   "source": [
    "slope, intercept, r_value, p_value, std_err = st.linregress(Northern['Lat'], Northern['Humidity'])\n",
    "fit = slope * Northern['Lat'] + intercept\n",
    "line_eq = \"y = \" + str(round(slope,2)) + \"x + \" + str(round(intercept,2))\n",
    "\n",
    "correlation = st.pearsonr(Northern['Lat'], Northern['Humidity'])\n",
    "plt.scatter(Northern['Lat'], Northern['Humidity'])\n",
    "\n",
    "plt.annotate(line_eq,(50,10),fontsize=10,color=\"red\")\n",
    "plt.plot(Northern['Lat'], fit,\"-\", color = \"r\")\n",
    "# plt.xticks(Northern['Lat'], rotation=90)\n",
    "plt.xlabel('Latitude')\n",
    "plt.ylabel('Humidity')\n",
    "print(f\"The r-value is: {r_value}\")\n",
    "# Save the figure\n",
    "plt.savefig(\"Humidity vs. Latitude Linear Regression.png\")\n",
    "plt.show()"
   ]
  },
  {
   "cell_type": "markdown",
   "metadata": {},
   "source": [
    "####  Southern Hemisphere - Humidity (%) vs. Latitude Linear Regression"
   ]
  },
  {
   "cell_type": "code",
   "execution_count": 137,
   "metadata": {},
   "outputs": [
    {
     "name": "stdout",
     "output_type": "stream",
     "text": [
      "The r-value is: 0.12079164263085179\n"
     ]
    },
    {
     "data": {
      "image/png": "[encoded data removed]",
      "text/plain": [
       "<Figure size 432x288 with 1 Axes>"
      ]
     },
     "metadata": {
      "needs_background": "light"
     },
     "output_type": "display_data"
    }
   ],
   "source": [
    "slope, intercept, r_value, p_value, std_err = st.linregress(Southern['Lat'], Southern['Humidity'])\n",
    "fit = slope * Southern['Lat'] + intercept\n",
    "line_eq = \"y = \" + str(round(slope,2)) + \"x + \" + str(round(intercept,2))\n",
    "\n",
    "correlation = st.pearsonr(Southern['Lat'], Southern['Humidity'])\n",
    "plt.scatter(Southern['Lat'], Southern['Humidity'])\n",
    "\n",
    "plt.annotate(line_eq,(-20,10),fontsize=10,color=\"red\")\n",
    "plt.plot(Southern['Lat'], fit,\"-\", color = \"r\")\n",
    "# plt.xticks(Southern['Lat'], rotation=90)\n",
    "plt.xlabel('Latitude')\n",
    "plt.ylabel('Humidity')\n",
    "print(f\"The r-value is: {r_value}\")\n",
    "# Save the figure\n",
    "plt.savefig(\"Humidity vs. Latitude Linear Regression.png\")\n",
    "plt.show()"
   ]
  },
  {
   "cell_type": "markdown",
   "metadata": {},
   "source": [
    "####  Northern Hemisphere - Cloudiness (%) vs. Latitude Linear Regression"
   ]
  },
  {
   "cell_type": "code",
   "execution_count": 138,
   "metadata": {},
   "outputs": [
    {
     "name": "stdout",
     "output_type": "stream",
     "text": [
      "The r-value is: 0.16239855590012187\n"
     ]
    },
    {
     "data": {
      "image/png": "[encoded data removed]",
      "text/plain": [
       "<Figure size 432x288 with 1 Axes>"
      ]
     },
     "metadata": {
      "needs_background": "light"
     },
     "output_type": "display_data"
    }
   ],
   "source": [
    "slope, intercept, r_value, p_value, std_err = st.linregress(Northern['Lat'], Northern['Cloudiness'])\n",
    "fit = slope * Northern['Lat'] + intercept\n",
    "line_eq = \"y = \" + str(round(slope,2)) + \"x + \" + str(round(intercept,2))\n",
    "\n",
    "correlation = st.pearsonr(Northern['Lat'], Northern['Cloudiness'])\n",
    "plt.scatter(Northern['Lat'], Northern['Cloudiness'])\n",
    "\n",
    "plt.annotate(line_eq,(1,20),fontsize=15,color=\"red\")\n",
    "plt.plot(Northern['Lat'], fit,\"-\", color = \"r\")\n",
    "# plt.xticks(Northern['Lat'], rotation=90)\n",
    "plt.xlabel('Latitude')\n",
    "plt.ylabel('Cloudiness')\n",
    "print(f\"The r-value is: {r_value}\")\n",
    "# Save the figure\n",
    "plt.savefig(\"Cloudiness vs. Latitude Linear Regression.png\")\n",
    "plt.show()"
   ]
  },
  {
   "cell_type": "markdown",
   "metadata": {},
   "source": [
    "####  Southern Hemisphere - Cloudiness (%) vs. Latitude Linear Regression"
   ]
  },
  {
   "cell_type": "code",
   "execution_count": 141,
   "metadata": {},
   "outputs": [
    {
     "name": "stdout",
     "output_type": "stream",
     "text": [
      "The r-value is: 0.04553085068688488\n"
     ]
    },
    {
     "data": {
      "image/png": "[encoded data removed]",
      "text/plain": [
       "<Figure size 432x288 with 1 Axes>"
      ]
     },
     "metadata": {
      "needs_background": "light"
     },
     "output_type": "display_data"
    }
   ],
   "source": [
    "slope, intercept, r_value, p_value, std_err = st.linregress(Southern['Lat'], Southern['Cloudiness'])\n",
    "fit = slope * Southern['Lat'] + intercept\n",
    "line_eq = \"y = \" + str(round(slope,2)) + \"x + \" + str(round(intercept,2))\n",
    "\n",
    "correlation = st.pearsonr(Southern['Lat'], Southern['Cloudiness'])\n",
    "plt.scatter(Southern['Lat'], Southern['Cloudiness'])\n",
    "\n",
    "plt.annotate(line_eq,(-55,30),fontsize=15,color=\"red\")\n",
    "plt.plot(Southern['Lat'], fit,\"-\", color = \"r\")\n",
    "# plt.xticks(Southern['Lat'], rotation=90)\n",
    "plt.xlabel('Latitude')\n",
    "plt.ylabel('Cloudiness')\n",
    "print(f\"The r-value is: {r_value}\")\n",
    "# Save the figure\n",
    "plt.savefig(\"Cloudiness vs. Latitude Linear Regression.png\")\n",
    "plt.show()"
   ]
  },
  {
   "cell_type": "markdown",
   "metadata": {},
   "source": [
    "####  Northern Hemisphere - Wind Speed (mph) vs. Latitude Linear Regression"
   ]
  },
  {
   "cell_type": "code",
   "execution_count": 142,
   "metadata": {},
   "outputs": [
    {
     "name": "stdout",
     "output_type": "stream",
     "text": [
      "The r-value is: 0.1259799332693197\n"
     ]
    },
    {
     "data": {
      "image/png": "[encoded data removed]",
      "text/plain": [
       "<Figure size 432x288 with 1 Axes>"
      ]
     },
     "metadata": {
      "needs_background": "light"
     },
     "output_type": "display_data"
    }
   ],
   "source": [
    "slope, intercept, r_value, p_value, std_err = st.linregress(Northern['Lat'], Northern['Wind Speed'])\n",
    "fit = slope * Northern['Lat'] + intercept\n",
    "line_eq = \"y = \" + str(round(slope,2)) + \"x + \" + str(round(intercept,2))\n",
    "\n",
    "correlation = st.pearsonr(Northern['Lat'], Northern['Wind Speed'])\n",
    "plt.scatter(Northern['Lat'], Northern['Wind Speed'])\n",
    "\n",
    "plt.annotate(line_eq,(1,20),fontsize=15,color=\"red\")\n",
    "plt.plot(Northern['Lat'], fit,\"-\", color = \"r\")\n",
    "# plt.xticks(Northern['Lat'], rotation=90)\n",
    "plt.xlabel('Latitude')\n",
    "plt.ylabel('Wind Speed')\n",
    "print(f\"The r-value is: {r_value}\")\n",
    "# Save the figure\n",
    "plt.savefig(\"Wind Speed (mph) vs. Latitude Linear Regression.png\")\n",
    "plt.show()"
   ]
  },
  {
   "cell_type": "markdown",
   "metadata": {},
   "source": [
    "####  Southern Hemisphere - Wind Speed (mph) vs. Latitude Linear Regression"
   ]
  },
  {
   "cell_type": "code",
   "execution_count": 144,
   "metadata": {},
   "outputs": [
    {
     "name": "stdout",
     "output_type": "stream",
     "text": [
      "The r-value is: -0.30554649437259407\n"
     ]
    },
    {
     "data": {
      "image/png": "[encoded data removed]",
      "text/plain": [
       "<Figure size 432x288 with 1 Axes>"
      ]
     },
     "metadata": {
      "needs_background": "light"
     },
     "output_type": "display_data"
    }
   ],
   "source": [
    "slope, intercept, r_value, p_value, std_err = st.linregress(Southern['Lat'], Southern['Wind Speed'])\n",
    "fit = slope * Southern['Lat'] + intercept\n",
    "line_eq = \"y = \" + str(round(slope,2)) + \"x + \" + str(round(intercept,2))\n",
    "\n",
    "correlation = st.pearsonr(Southern['Lat'], Southern['Wind Speed'])\n",
    "plt.scatter(Southern['Lat'], Southern['Wind Speed'])\n",
    "\n",
    "plt.annotate(line_eq,(-50,20),fontsize=15,color=\"red\")\n",
    "plt.plot(Southern['Lat'], fit,\"-\", color = \"r\")\n",
    "# plt.xticks(Southern['Lat'], rotation=90)\n",
    "plt.xlabel('Latitude')\n",
    "plt.ylabel('Wind Speed')\n",
    "print(f\"The r-value is: {r_value}\")\n",
    "# Save the figure\n",
    "plt.savefig(\"Wind Speed (mph) vs. Latitude Linear Regression.png\")\n",
    "plt.show()"
   ]
  },
  {
   "cell_type": "code",
   "execution_count": null,
   "metadata": {},
   "outputs": [],
   "source": []
  }
 ],
 "metadata": {
  "anaconda-cloud": {},
  "kernel_info": {
   "name": "python3"
  },
  "kernelspec": {
   "display_name": "Python 3",
   "language": "python",
   "name": "python3"
  },
  "language_info": {
   "codemirror_mode": {
    "name": "ipython",
    "version": 3
   },
   "file_extension": ".py",
   "mimetype": "text/x-python",
   "name": "python",
   "nbconvert_exporter": "python",
   "pygments_lexer": "ipython3",
   "version": "3.8.5"
  },
  "latex_envs": {
   "LaTeX_envs_menu_present": true,
   "autoclose": false,
   "autocomplete": true,
   "bibliofile": "biblio.bib",
   "cite_by": "apalike",
   "current_citInitial": 1,
   "eqLabelWithNumbers": true,
   "eqNumInitial": 1,
   "hotkeys": {
    "equation": "Ctrl-E",
    "itemize": "Ctrl-I"
   },
   "labels_anchors": false,
   "latex_user_defs": false,
   "report_style_numbering": false,
   "user_envs_cfg": false
  },
  "nteract": {
   "version": "0.12.3"
  }
 },
 "nbformat": 4,
 "nbformat_minor": 2
}
